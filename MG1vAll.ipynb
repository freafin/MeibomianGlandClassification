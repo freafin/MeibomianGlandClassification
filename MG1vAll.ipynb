{
 "cells": [
  {
   "cell_type": "markdown",
   "id": "0a76399c-cfb9-4098-929d-869ae988e7bc",
   "metadata": {
    "tags": []
   },
   "source": [
    "# Preprocessing"
   ]
  },
  {
   "cell_type": "code",
   "execution_count": 1,
   "id": "6e2a85dd-4366-411c-a885-c2982eda19ba",
   "metadata": {},
   "outputs": [],
   "source": [
    "import pandas as pd\n",
    "import numpy as np\n",
    "from sklearn.impute import SimpleImputer\n",
    "from sklearn.impute import KNNImputer\n",
    "from sklearn.experimental import enable_iterative_imputer\n",
    "from sklearn.impute import IterativeImputer\n",
    "from sklearn.ensemble import RandomForestClassifier\n",
    "from sklearn.neighbors import KNeighborsClassifier\n",
    "from sklearn.model_selection import train_test_split\n",
    "from sklearn import metrics\n",
    "from sklearn.metrics import balanced_accuracy_score\n",
    "from sklearn.metrics import matthews_corrcoef\n",
    "from sklearn.metrics import f1_score\n",
    "from sklearn.metrics import confusion_matrix\n",
    "from sklearn.metrics import classification_report\n",
    "import matplotlib.pyplot as plt\n",
    "import seaborn as sns"
   ]
  },
  {
   "cell_type": "code",
   "execution_count": 2,
   "id": "f79d5c80-4048-433e-9763-01e3e7b93479",
   "metadata": {},
   "outputs": [],
   "source": [
    "df1 = pd.read_csv(\"c:/users/fre_f/ARVOproject/BLclinicalremoved.csv\", index_col = \"ID\", encoding=\"ansi\")\n",
    "#df1.head()"
   ]
  },
  {
   "cell_type": "code",
   "execution_count": 3,
   "id": "b1a8ba0d-6fcd-429c-8825-68a6431ec122",
   "metadata": {
    "tags": []
   },
   "outputs": [
    {
     "data": {
      "text/plain": [
       "MeiboODinf-0       float64\n",
       "MeiboOSinf-0       float64\n",
       "Kjønn M=0          float64\n",
       "Alder              float64\n",
       "Synskorr.kir       float64\n",
       "                    ...   \n",
       "Skjermbruk-0       float64\n",
       "Kontaktlinser-0    float64\n",
       "Mascara-0          float64\n",
       "Eyeliner-0         float64\n",
       "AC-0               float64\n",
       "Length: 92, dtype: object"
      ]
     },
     "execution_count": 3,
     "metadata": {},
     "output_type": "execute_result"
    }
   ],
   "source": [
    "df1.dtypes"
   ]
  },
  {
   "cell_type": "code",
   "execution_count": 4,
   "id": "cfcd04cd-48d1-4e61-ae20-5f28fdaa8eb8",
   "metadata": {
    "tags": []
   },
   "outputs": [
    {
     "data": {
      "text/plain": [
       "array(['0', '2', '7', '4', '5', '6', '3', '1', '8', '9', '10', ' ', nan],\n",
       "      dtype=object)"
      ]
     },
     "execution_count": 4,
     "metadata": {},
     "output_type": "execute_result"
    }
   ],
   "source": [
    "df1[\"Vinter\"].unique()\n",
    "df1[\"RensVarme\"].unique()"
   ]
  },
  {
   "cell_type": "code",
   "execution_count": 5,
   "id": "d1ba3ffb-4115-411c-8941-a45590457d92",
   "metadata": {},
   "outputs": [],
   "source": [
    "#Remove empty strings\n",
    "df1['Vinter'] = df1['Vinter'].replace(\" \", np.nan)\n",
    "df1['RensVarme'] = df1['RensVarme'].replace(\" \", np.nan)"
   ]
  },
  {
   "cell_type": "code",
   "execution_count": 6,
   "id": "fec48043-2a78-4636-8c77-cb0ebcd45706",
   "metadata": {},
   "outputs": [
    {
     "data": {
      "text/plain": [
       "array(['0', '2', '7', '4', '5', '6', '3', '1', '8', '9', '10', nan],\n",
       "      dtype=object)"
      ]
     },
     "execution_count": 6,
     "metadata": {},
     "output_type": "execute_result"
    }
   ],
   "source": [
    "df1[\"Vinter\"].unique()\n",
    "df1[\"RensVarme\"].unique()"
   ]
  },
  {
   "cell_type": "code",
   "execution_count": 7,
   "id": "02df223d-114a-4f8d-8c56-5543117825a1",
   "metadata": {},
   "outputs": [],
   "source": [
    "#Convert dtype\n",
    "df1['RensVarme']=df1['RensVarme'].astype('float')\n",
    "df1['Vinter']=df1['Vinter'].astype('float')"
   ]
  },
  {
   "cell_type": "code",
   "execution_count": 8,
   "id": "4a36bba8-0763-4b3f-a171-dd94a8d5d328",
   "metadata": {},
   "outputs": [
    {
     "data": {
      "text/plain": [
       "array([ 2.,  4.,  3.,  1., nan,  0.])"
      ]
     },
     "execution_count": 8,
     "metadata": {},
     "output_type": "execute_result"
    }
   ],
   "source": [
    "df1['MeiboODinf-0'].unique()\n"
   ]
  },
  {
   "cell_type": "code",
   "execution_count": 9,
   "id": "5abd6d25-2a04-49fd-b8b1-1dd1f5e27612",
   "metadata": {},
   "outputs": [
    {
     "data": {
      "text/plain": [
       "2.0    215\n",
       "3.0    183\n",
       "4.0    129\n",
       "1.0     44\n",
       "0.0      2\n",
       "Name: MeiboODinf-0, dtype: int64"
      ]
     },
     "execution_count": 9,
     "metadata": {},
     "output_type": "execute_result"
    }
   ],
   "source": [
    "df1[\"MeiboODinf-0\"].value_counts()"
   ]
  },
  {
   "cell_type": "code",
   "execution_count": 10,
   "id": "7f16136d-376a-4106-987e-9312481f7b2f",
   "metadata": {},
   "outputs": [],
   "source": [
    "#Implement class 0 in class 1\n",
    "df1['MeiboODinf-0'] = df1['MeiboODinf-0'].replace(0, 1)\n",
    "df1['MeiboOSinf-0'] = df1['MeiboOSinf-0'].replace(0, 1)"
   ]
  },
  {
   "cell_type": "code",
   "execution_count": 11,
   "id": "a4d9d90a-6335-4def-a3b2-789510ee684c",
   "metadata": {},
   "outputs": [
    {
     "data": {
      "text/plain": [
       "(594, 92)"
      ]
     },
     "execution_count": 11,
     "metadata": {},
     "output_type": "execute_result"
    }
   ],
   "source": [
    "df1.shape"
   ]
  },
  {
   "cell_type": "code",
   "execution_count": 12,
   "id": "76df3faf-2a36-4ead-b7d4-5353b2fcf939",
   "metadata": {},
   "outputs": [],
   "source": [
    "df1 = df1.dropna(axis=0, subset=[\"MeiboODinf-0\"])\n",
    "df1 = df1.dropna(axis=0, subset=[\"MeiboOSinf-0\"])"
   ]
  },
  {
   "cell_type": "code",
   "execution_count": 13,
   "id": "7fff9c4d-de09-4b12-b691-4295291a94cd",
   "metadata": {},
   "outputs": [
    {
     "data": {
      "text/plain": [
       "(573, 92)"
      ]
     },
     "execution_count": 13,
     "metadata": {},
     "output_type": "execute_result"
    }
   ],
   "source": [
    "df1.shape"
   ]
  },
  {
   "cell_type": "code",
   "execution_count": 14,
   "id": "08e54930-020a-4529-90aa-a7a1c6697c1e",
   "metadata": {},
   "outputs": [
    {
     "data": {
      "text/plain": [
       "array([2., 4., 3., 1.])"
      ]
     },
     "execution_count": 14,
     "metadata": {},
     "output_type": "execute_result"
    }
   ],
   "source": [
    "df1['MeiboODinf-0'].unique()\n",
    "df1['MeiboOSinf-0'].unique()"
   ]
  },
  {
   "cell_type": "code",
   "execution_count": 15,
   "id": "a819ec4a-707c-48e3-94d4-1889aa08fc05",
   "metadata": {},
   "outputs": [],
   "source": [
    "#df1.iloc[:,2:92]"
   ]
  },
  {
   "cell_type": "code",
   "execution_count": 16,
   "id": "81819f47-3f24-4662-a2a1-a1b161481e28",
   "metadata": {},
   "outputs": [],
   "source": [
    "#imp = SimpleImputer(strategy='mean')\n",
    "#imp = IterativeImputer(random_state=42, max_iter=100)\n",
    "imp = KNNImputer(n_neighbors=3, weights=\"uniform\")\n",
    "df_imputed = imp.fit_transform(df1)\n",
    "df2 = pd.DataFrame(df_imputed, columns = df1.columns.tolist(), index = df1.index)\n",
    "#df2"
   ]
  },
  {
   "cell_type": "code",
   "execution_count": 17,
   "id": "47b0ffa3-0ebc-4522-8e89-76c6e971329b",
   "metadata": {},
   "outputs": [
    {
     "data": {
      "text/plain": [
       "pandas.core.frame.DataFrame"
      ]
     },
     "execution_count": 17,
     "metadata": {},
     "output_type": "execute_result"
    }
   ],
   "source": [
    "type(df2)"
   ]
  },
  {
   "cell_type": "code",
   "execution_count": 18,
   "id": "53c9a314-d9b9-4154-9311-ae0e874fb431",
   "metadata": {},
   "outputs": [],
   "source": [
    "#df2.iloc[:,0:47]"
   ]
  },
  {
   "cell_type": "code",
   "execution_count": 19,
   "id": "656835bd-0693-4c6a-a431-9dd02ffa3eb8",
   "metadata": {},
   "outputs": [],
   "source": [
    "#df2.iloc[:,0]"
   ]
  },
  {
   "cell_type": "code",
   "execution_count": 20,
   "id": "f36c31fc-0f3f-445b-9648-ad7492420b8a",
   "metadata": {},
   "outputs": [],
   "source": [
    "#df2.iloc[:,2:] "
   ]
  },
  {
   "cell_type": "code",
   "execution_count": 21,
   "id": "5de0d93f-fea0-4f19-9ccc-36acf0639101",
   "metadata": {
    "tags": []
   },
   "outputs": [],
   "source": [
    "X = df2.iloc[:,2:]\n"
   ]
  },
  {
   "cell_type": "code",
   "execution_count": 22,
   "id": "4187e0f3-8fed-4c2c-a855-2dfcb2e7bf9a",
   "metadata": {},
   "outputs": [],
   "source": [
    "y = df2.iloc[:,0]"
   ]
  },
  {
   "cell_type": "code",
   "execution_count": 23,
   "id": "0a06e278-ac29-4bf2-a47c-13160537d21f",
   "metadata": {},
   "outputs": [],
   "source": [
    "#y_train for class 1\n",
    "y_Class1OD = y.replace(2, 0)\n",
    "y_Class1OD = y_Class1OD.replace(3, 0)\n",
    "y_Class1OD = y_Class1OD.replace(4, 0)"
   ]
  },
  {
   "cell_type": "code",
   "execution_count": 24,
   "id": "5deb4e15-f415-4b70-895b-d0af29daa6be",
   "metadata": {},
   "outputs": [
    {
     "data": {
      "text/plain": [
       "0.0    527\n",
       "1.0     46\n",
       "Name: MeiboODinf-0, dtype: int64"
      ]
     },
     "execution_count": 24,
     "metadata": {},
     "output_type": "execute_result"
    }
   ],
   "source": [
    "y_Class1OD.value_counts()"
   ]
  },
  {
   "cell_type": "code",
   "execution_count": 25,
   "id": "28fc4137-072b-45bb-a050-f2d4e291300b",
   "metadata": {},
   "outputs": [
    {
     "data": {
      "text/plain": [
       "2.0    215\n",
       "3.0    183\n",
       "4.0    129\n",
       "1.0     46\n",
       "Name: MeiboODinf-0, dtype: int64"
      ]
     },
     "execution_count": 25,
     "metadata": {},
     "output_type": "execute_result"
    }
   ],
   "source": [
    "y.value_counts()"
   ]
  },
  {
   "cell_type": "code",
   "execution_count": 26,
   "id": "51de1c2e-b39c-463f-b5d8-10832b8cdddf",
   "metadata": {
    "tags": []
   },
   "outputs": [],
   "source": [
    "X_train, X_test, y_train, y_test = train_test_split(X, y_Class1OD, test_size = 0.2, random_state=42)\n"
   ]
  },
  {
   "cell_type": "code",
   "execution_count": 27,
   "id": "bbf80ed7-ae5a-4817-abeb-fccbe6242b40",
   "metadata": {
    "tags": []
   },
   "outputs": [
    {
     "name": "stdout",
     "output_type": "stream",
     "text": [
      "(458, 90)\n",
      "(115, 90)\n",
      "(458,)\n",
      "(115,)\n"
     ]
    }
   ],
   "source": [
    "print(X_train.shape)\n",
    "print(X_test.shape)\n",
    "print(y_train.shape)\n",
    "print(y_test.shape)"
   ]
  },
  {
   "cell_type": "code",
   "execution_count": 28,
   "id": "5dffd599-b4dc-4e8f-951c-ca6272412ae8",
   "metadata": {},
   "outputs": [],
   "source": [
    "from sklearn.preprocessing import StandardScaler\n",
    "scaler = StandardScaler()\n",
    "X_trainScaled = scaler.fit_transform(X_train)\n",
    "X_testScaled = scaler.transform(X_test)\n",
    "X_trainScaled = pd.DataFrame(X_trainScaled, columns = X_train.columns.tolist(), index=X_train.index)\n",
    "X_testScaled = pd.DataFrame(X_testScaled, columns = X_test.columns.tolist(), index=X_test.index)"
   ]
  },
  {
   "cell_type": "code",
   "execution_count": 29,
   "id": "5682c04f-6214-4f73-8eac-f3f23181bcb5",
   "metadata": {},
   "outputs": [
    {
     "name": "stdout",
     "output_type": "stream",
     "text": [
      "(458, 90)\n",
      "(115, 90)\n",
      "(458,)\n",
      "(115,)\n"
     ]
    }
   ],
   "source": [
    "print(X_trainScaled.shape)\n",
    "print(X_testScaled.shape)\n",
    "print(y_train.shape)\n",
    "print(y_test.shape)"
   ]
  },
  {
   "cell_type": "code",
   "execution_count": 30,
   "id": "362b3bee-05d6-4654-a80c-f13f3de6d6c1",
   "metadata": {},
   "outputs": [],
   "source": [
    "def metrics():\n",
    "    y_pred = clf.predict(X_testScaled)\n",
    "    bal_acc = balanced_accuracy_score(y_test, y_pred)\n",
    "    mcc = matthews_corrcoef(y_test, y_pred)\n",
    "    f1 = f1_score(y_test, y_pred, average=\"macro\")\n",
    "    cf = confusion_matrix(y_test, y_pred)\n",
    "    target_names = ['class 0', 'class 1']\n",
    "    print(f\"Balanced accuracy: {bal_acc}\")\n",
    "    print(f\"MCC: {mcc}\")\n",
    "    print(f\"F1: {f1}\")\n",
    "    print(f\"Confusion matrix: \\n{cf}\")\n",
    "    print(f\"Classification report: \\n{classification_report(y_test, y_pred, target_names=target_names)}\")"
   ]
  },
  {
   "cell_type": "markdown",
   "id": "a3053043-41c5-40a9-a299-a7b511b9e44f",
   "metadata": {
    "tags": []
   },
   "source": [
    "# Training and predicting on the right eye"
   ]
  },
  {
   "cell_type": "code",
   "execution_count": 31,
   "id": "7c2a2b6b-5414-4b16-adea-b4846e308764",
   "metadata": {
    "tags": []
   },
   "outputs": [
    {
     "name": "stdout",
     "output_type": "stream",
     "text": [
      "Balanced accuracy: 0.5\n",
      "MCC: 0.0\n",
      "F1: 0.48660714285714285\n",
      "Confusion matrix: \n",
      "[[109   0]\n",
      " [  6   0]]\n",
      "Classification report: \n",
      "              precision    recall  f1-score   support\n",
      "\n",
      "     class 0       0.95      1.00      0.97       109\n",
      "     class 1       0.00      0.00      0.00         6\n",
      "\n",
      "    accuracy                           0.95       115\n",
      "   macro avg       0.47      0.50      0.49       115\n",
      "weighted avg       0.90      0.95      0.92       115\n",
      "\n"
     ]
    },
    {
     "name": "stderr",
     "output_type": "stream",
     "text": [
      "C:\\Users\\fre_f\\anaconda3\\envs\\FF\\lib\\site-packages\\sklearn\\metrics\\_classification.py:1334: UndefinedMetricWarning: Precision and F-score are ill-defined and being set to 0.0 in labels with no predicted samples. Use `zero_division` parameter to control this behavior.\n",
      "  _warn_prf(average, modifier, msg_start, len(result))\n",
      "C:\\Users\\fre_f\\anaconda3\\envs\\FF\\lib\\site-packages\\sklearn\\metrics\\_classification.py:1334: UndefinedMetricWarning: Precision and F-score are ill-defined and being set to 0.0 in labels with no predicted samples. Use `zero_division` parameter to control this behavior.\n",
      "  _warn_prf(average, modifier, msg_start, len(result))\n",
      "C:\\Users\\fre_f\\anaconda3\\envs\\FF\\lib\\site-packages\\sklearn\\metrics\\_classification.py:1334: UndefinedMetricWarning: Precision and F-score are ill-defined and being set to 0.0 in labels with no predicted samples. Use `zero_division` parameter to control this behavior.\n",
      "  _warn_prf(average, modifier, msg_start, len(result))\n"
     ]
    }
   ],
   "source": [
    "from sklearn.dummy import DummyClassifier\n",
    "clf = DummyClassifier(strategy=\"most_frequent\")\n",
    "clf.fit(X_trainScaled, y_train)\n",
    "clf.predict(X_testScaled)\n",
    "\n",
    "metrics()\n"
   ]
  },
  {
   "cell_type": "code",
   "execution_count": 32,
   "id": "61a59fca-300f-4214-981a-d8f54326b0ac",
   "metadata": {},
   "outputs": [
    {
     "name": "stdout",
     "output_type": "stream",
     "text": [
      "Balanced accuracy: 0.6253822629969419\n",
      "MCC: 0.1896015841690225\n",
      "F1: 0.5871306268986468\n",
      "Confusion matrix: \n",
      "[[100   9]\n",
      " [  4   2]]\n",
      "Classification report: \n",
      "              precision    recall  f1-score   support\n",
      "\n",
      "     class 0       0.96      0.92      0.94       109\n",
      "     class 1       0.18      0.33      0.24         6\n",
      "\n",
      "    accuracy                           0.89       115\n",
      "   macro avg       0.57      0.63      0.59       115\n",
      "weighted avg       0.92      0.89      0.90       115\n",
      "\n"
     ]
    }
   ],
   "source": [
    "from sklearn.svm import LinearSVC\n",
    "clf = LinearSVC(max_iter=5000).fit(X_trainScaled, y_train)\n",
    "clf.predict(X_testScaled)\n",
    "\n",
    "metrics()"
   ]
  },
  {
   "cell_type": "code",
   "execution_count": 33,
   "id": "c9e8eeaf-00b1-4c41-8875-4a0a5580bc86",
   "metadata": {},
   "outputs": [
    {
     "name": "stdout",
     "output_type": "stream",
     "text": [
      "Balanced accuracy: 0.5\n",
      "MCC: 0.0\n",
      "F1: 0.48660714285714285\n",
      "Confusion matrix: \n",
      "[[109   0]\n",
      " [  6   0]]\n",
      "Classification report: \n",
      "              precision    recall  f1-score   support\n",
      "\n",
      "     class 0       0.95      1.00      0.97       109\n",
      "     class 1       0.00      0.00      0.00         6\n",
      "\n",
      "    accuracy                           0.95       115\n",
      "   macro avg       0.47      0.50      0.49       115\n",
      "weighted avg       0.90      0.95      0.92       115\n",
      "\n"
     ]
    },
    {
     "name": "stderr",
     "output_type": "stream",
     "text": [
      "C:\\Users\\fre_f\\anaconda3\\envs\\FF\\lib\\site-packages\\sklearn\\metrics\\_classification.py:1334: UndefinedMetricWarning: Precision and F-score are ill-defined and being set to 0.0 in labels with no predicted samples. Use `zero_division` parameter to control this behavior.\n",
      "  _warn_prf(average, modifier, msg_start, len(result))\n",
      "C:\\Users\\fre_f\\anaconda3\\envs\\FF\\lib\\site-packages\\sklearn\\metrics\\_classification.py:1334: UndefinedMetricWarning: Precision and F-score are ill-defined and being set to 0.0 in labels with no predicted samples. Use `zero_division` parameter to control this behavior.\n",
      "  _warn_prf(average, modifier, msg_start, len(result))\n",
      "C:\\Users\\fre_f\\anaconda3\\envs\\FF\\lib\\site-packages\\sklearn\\metrics\\_classification.py:1334: UndefinedMetricWarning: Precision and F-score are ill-defined and being set to 0.0 in labels with no predicted samples. Use `zero_division` parameter to control this behavior.\n",
      "  _warn_prf(average, modifier, msg_start, len(result))\n"
     ]
    }
   ],
   "source": [
    "clf = RandomForestClassifier().fit(X_trainScaled, y_train)\n",
    "clf.predict(X_testScaled)\n",
    "\n",
    "metrics()"
   ]
  },
  {
   "cell_type": "code",
   "execution_count": 34,
   "id": "f003b01e-e219-4db4-8b7a-edb08c882462",
   "metadata": {},
   "outputs": [
    {
     "name": "stdout",
     "output_type": "stream",
     "text": [
      "Balanced accuracy: 0.5\n",
      "MCC: 0.0\n",
      "F1: 0.48660714285714285\n",
      "Confusion matrix: \n",
      "[[109   0]\n",
      " [  6   0]]\n",
      "Classification report: \n",
      "              precision    recall  f1-score   support\n",
      "\n",
      "     class 0       0.95      1.00      0.97       109\n",
      "     class 1       0.00      0.00      0.00         6\n",
      "\n",
      "    accuracy                           0.95       115\n",
      "   macro avg       0.47      0.50      0.49       115\n",
      "weighted avg       0.90      0.95      0.92       115\n",
      "\n"
     ]
    },
    {
     "name": "stderr",
     "output_type": "stream",
     "text": [
      "C:\\Users\\fre_f\\anaconda3\\envs\\FF\\lib\\site-packages\\sklearn\\metrics\\_classification.py:1334: UndefinedMetricWarning: Precision and F-score are ill-defined and being set to 0.0 in labels with no predicted samples. Use `zero_division` parameter to control this behavior.\n",
      "  _warn_prf(average, modifier, msg_start, len(result))\n",
      "C:\\Users\\fre_f\\anaconda3\\envs\\FF\\lib\\site-packages\\sklearn\\metrics\\_classification.py:1334: UndefinedMetricWarning: Precision and F-score are ill-defined and being set to 0.0 in labels with no predicted samples. Use `zero_division` parameter to control this behavior.\n",
      "  _warn_prf(average, modifier, msg_start, len(result))\n",
      "C:\\Users\\fre_f\\anaconda3\\envs\\FF\\lib\\site-packages\\sklearn\\metrics\\_classification.py:1334: UndefinedMetricWarning: Precision and F-score are ill-defined and being set to 0.0 in labels with no predicted samples. Use `zero_division` parameter to control this behavior.\n",
      "  _warn_prf(average, modifier, msg_start, len(result))\n"
     ]
    }
   ],
   "source": [
    "clf = RandomForestClassifier(n_estimators=5000, criterion=\"gini\", bootstrap=True, oob_score=False, warm_start=False, random_state=42).fit(X_trainScaled, y_train)\n",
    "clf.predict(X_testScaled)\n",
    "\n",
    "metrics()"
   ]
  },
  {
   "cell_type": "code",
   "execution_count": 35,
   "id": "d493cb6e-771c-4e41-8269-deaf76ee29bc",
   "metadata": {},
   "outputs": [
    {
     "name": "stdout",
     "output_type": "stream",
     "text": [
      "Balanced accuracy: 0.5\n",
      "MCC: 0.0\n",
      "F1: 0.48660714285714285\n",
      "Confusion matrix: \n",
      "[[109   0]\n",
      " [  6   0]]\n",
      "Classification report: \n",
      "              precision    recall  f1-score   support\n",
      "\n",
      "     class 0       0.95      1.00      0.97       109\n",
      "     class 1       0.00      0.00      0.00         6\n",
      "\n",
      "    accuracy                           0.95       115\n",
      "   macro avg       0.47      0.50      0.49       115\n",
      "weighted avg       0.90      0.95      0.92       115\n",
      "\n"
     ]
    },
    {
     "name": "stderr",
     "output_type": "stream",
     "text": [
      "C:\\Users\\fre_f\\anaconda3\\envs\\FF\\lib\\site-packages\\sklearn\\metrics\\_classification.py:1334: UndefinedMetricWarning: Precision and F-score are ill-defined and being set to 0.0 in labels with no predicted samples. Use `zero_division` parameter to control this behavior.\n",
      "  _warn_prf(average, modifier, msg_start, len(result))\n",
      "C:\\Users\\fre_f\\anaconda3\\envs\\FF\\lib\\site-packages\\sklearn\\metrics\\_classification.py:1334: UndefinedMetricWarning: Precision and F-score are ill-defined and being set to 0.0 in labels with no predicted samples. Use `zero_division` parameter to control this behavior.\n",
      "  _warn_prf(average, modifier, msg_start, len(result))\n",
      "C:\\Users\\fre_f\\anaconda3\\envs\\FF\\lib\\site-packages\\sklearn\\metrics\\_classification.py:1334: UndefinedMetricWarning: Precision and F-score are ill-defined and being set to 0.0 in labels with no predicted samples. Use `zero_division` parameter to control this behavior.\n",
      "  _warn_prf(average, modifier, msg_start, len(result))\n"
     ]
    }
   ],
   "source": [
    "from sklearn.ensemble import ExtraTreesClassifier\n",
    "clf = ExtraTreesClassifier(n_estimators=1000, bootstrap=True, oob_score=True, random_state=42).fit(X_trainScaled, y_train)\n",
    "clf.predict(X_testScaled)\n",
    "\n",
    "metrics()"
   ]
  },
  {
   "cell_type": "code",
   "execution_count": 36,
   "id": "f9a776ba-eac6-43fd-8cfc-9bd74dcf6e7c",
   "metadata": {},
   "outputs": [
    {
     "name": "stdout",
     "output_type": "stream",
     "text": [
      "Balanced accuracy: 0.6574923547400612\n",
      "MCC: 0.38228465101078163\n",
      "F1: 0.6863636363636364\n",
      "Confusion matrix: \n",
      "[[107   2]\n",
      " [  4   2]]\n",
      "Classification report: \n",
      "              precision    recall  f1-score   support\n",
      "\n",
      "     class 0       0.96      0.98      0.97       109\n",
      "     class 1       0.50      0.33      0.40         6\n",
      "\n",
      "    accuracy                           0.95       115\n",
      "   macro avg       0.73      0.66      0.69       115\n",
      "weighted avg       0.94      0.95      0.94       115\n",
      "\n"
     ]
    }
   ],
   "source": [
    "neigh = KNeighborsClassifier(n_neighbors=3)\n",
    "clf = neigh.fit(X_trainScaled, y_train)\n",
    "clf.predict(X_testScaled)\n",
    "\n",
    "metrics()"
   ]
  },
  {
   "cell_type": "code",
   "execution_count": 37,
   "id": "d1f2ec2e-97de-485f-94b9-9005f613f7dd",
   "metadata": {},
   "outputs": [
    {
     "name": "stdout",
     "output_type": "stream",
     "text": [
      "Balanced accuracy: 0.7782874617737003\n",
      "MCC: 0.3576308054927703\n",
      "F1: 0.6481643356643356\n",
      "Confusion matrix: \n",
      "[[97 12]\n",
      " [ 2  4]]\n",
      "Classification report: \n",
      "              precision    recall  f1-score   support\n",
      "\n",
      "     class 0       0.98      0.89      0.93       109\n",
      "     class 1       0.25      0.67      0.36         6\n",
      "\n",
      "    accuracy                           0.88       115\n",
      "   macro avg       0.61      0.78      0.65       115\n",
      "weighted avg       0.94      0.88      0.90       115\n",
      "\n"
     ]
    }
   ],
   "source": [
    "# lbfgs, sgd, adam\n",
    "#logistic, tanh, relu\n",
    "from sklearn.neural_network import MLPClassifier\n",
    "clf = MLPClassifier(solver=\"lbfgs\", activation=\"relu\", learning_rate=\"constant\", random_state=42, max_iter=3000, verbose=False).fit(X_trainScaled, y_train)\n",
    "#clf.out_activation_=\"softmax\"\n",
    "clf.predict(X_testScaled)\n",
    "\n",
    "metrics()"
   ]
  },
  {
   "cell_type": "code",
   "execution_count": 38,
   "id": "445e856b-e711-4404-9dec-07b350332d1a",
   "metadata": {},
   "outputs": [
    {
     "name": "stdout",
     "output_type": "stream",
     "text": [
      "Balanced accuracy: 0.731651376146789\n",
      "MCC: 0.43091623491635767\n",
      "F1: 0.7146401985111663\n",
      "Confusion matrix: \n",
      "[[105   4]\n",
      " [  3   3]]\n",
      "Classification report: \n",
      "              precision    recall  f1-score   support\n",
      "\n",
      "     class 0       0.97      0.96      0.97       109\n",
      "     class 1       0.43      0.50      0.46         6\n",
      "\n",
      "    accuracy                           0.94       115\n",
      "   macro avg       0.70      0.73      0.71       115\n",
      "weighted avg       0.94      0.94      0.94       115\n",
      "\n"
     ]
    }
   ],
   "source": [
    "from sklearn.ensemble import AdaBoostClassifier\n",
    "clf = AdaBoostClassifier(n_estimators=50, random_state=42).fit(X_trainScaled, y_train)\n",
    "clf.predict(X_testScaled)\n",
    "\n",
    "metrics()\n",
    "#complete_output()"
   ]
  },
  {
   "cell_type": "code",
   "execution_count": 39,
   "id": "b0d3e80f-7a0d-49c6-8e0e-d37f279d7d55",
   "metadata": {},
   "outputs": [
    {
     "name": "stdout",
     "output_type": "stream",
     "text": [
      "Balanced accuracy: 0.75\n",
      "MCC: 0.6975723208794503\n",
      "F1: 0.8265460030165912\n",
      "Confusion matrix: \n",
      "[[109   0]\n",
      " [  3   3]]\n",
      "Classification report: \n",
      "              precision    recall  f1-score   support\n",
      "\n",
      "     class 0       0.97      1.00      0.99       109\n",
      "     class 1       1.00      0.50      0.67         6\n",
      "\n",
      "    accuracy                           0.97       115\n",
      "   macro avg       0.99      0.75      0.83       115\n",
      "weighted avg       0.97      0.97      0.97       115\n",
      "\n"
     ]
    }
   ],
   "source": [
    "from sklearn.ensemble import HistGradientBoostingClassifier\n",
    "clf = HistGradientBoostingClassifier().fit(X_trainScaled, y_train)\n",
    "clf.predict(X_testScaled)\n",
    "\n",
    "metrics()\n",
    "#complete_output()"
   ]
  },
  {
   "cell_type": "code",
   "execution_count": 40,
   "id": "737bdf74-ee32-47e4-89ca-c8a8ae0e5fa8",
   "metadata": {},
   "outputs": [
    {
     "name": "stdout",
     "output_type": "stream",
     "text": [
      "Balanced accuracy: 0.6162079510703364\n",
      "MCC: 0.1632235998055146\n",
      "F1: 0.5697181341980544\n",
      "Confusion matrix: \n",
      "[[98 11]\n",
      " [ 4  2]]\n",
      "Classification report: \n",
      "              precision    recall  f1-score   support\n",
      "\n",
      "     class 0       0.96      0.90      0.93       109\n",
      "     class 1       0.15      0.33      0.21         6\n",
      "\n",
      "    accuracy                           0.87       115\n",
      "   macro avg       0.56      0.62      0.57       115\n",
      "weighted avg       0.92      0.87      0.89       115\n",
      "\n"
     ]
    }
   ],
   "source": [
    "from sklearn.ensemble import GradientBoostingClassifier\n",
    "clf = GradientBoostingClassifier(n_estimators=1000, learning_rate=1.0, max_depth=None, random_state=42).fit(X_trainScaled, y_train)\n",
    "clf.predict(X_testScaled)\n",
    "\n",
    "metrics()"
   ]
  },
  {
   "cell_type": "code",
   "execution_count": 41,
   "id": "c04b7cce-9ff3-4276-a3d4-3bddf76e9b8d",
   "metadata": {},
   "outputs": [
    {
     "name": "stdout",
     "output_type": "stream",
     "text": [
      "Balanced accuracy: 0.5\n",
      "MCC: 0.0\n",
      "F1: 0.48660714285714285\n",
      "Confusion matrix: \n",
      "[[109   0]\n",
      " [  6   0]]\n",
      "Classification report: \n",
      "              precision    recall  f1-score   support\n",
      "\n",
      "     class 0       0.95      1.00      0.97       109\n",
      "     class 1       0.00      0.00      0.00         6\n",
      "\n",
      "    accuracy                           0.95       115\n",
      "   macro avg       0.47      0.50      0.49       115\n",
      "weighted avg       0.90      0.95      0.92       115\n",
      "\n"
     ]
    },
    {
     "name": "stderr",
     "output_type": "stream",
     "text": [
      "C:\\Users\\fre_f\\anaconda3\\envs\\FF\\lib\\site-packages\\sklearn\\metrics\\_classification.py:1334: UndefinedMetricWarning: Precision and F-score are ill-defined and being set to 0.0 in labels with no predicted samples. Use `zero_division` parameter to control this behavior.\n",
      "  _warn_prf(average, modifier, msg_start, len(result))\n",
      "C:\\Users\\fre_f\\anaconda3\\envs\\FF\\lib\\site-packages\\sklearn\\metrics\\_classification.py:1334: UndefinedMetricWarning: Precision and F-score are ill-defined and being set to 0.0 in labels with no predicted samples. Use `zero_division` parameter to control this behavior.\n",
      "  _warn_prf(average, modifier, msg_start, len(result))\n",
      "C:\\Users\\fre_f\\anaconda3\\envs\\FF\\lib\\site-packages\\sklearn\\metrics\\_classification.py:1334: UndefinedMetricWarning: Precision and F-score are ill-defined and being set to 0.0 in labels with no predicted samples. Use `zero_division` parameter to control this behavior.\n",
      "  _warn_prf(average, modifier, msg_start, len(result))\n"
     ]
    }
   ],
   "source": [
    "from xgboost import XGBClassifier\n",
    "clf = XGBClassifier(max_depth=10, eta=0.3, reg_lambda=50, alpha=0).fit(X_trainScaled, y_train)\n",
    "clf.predict(X_testScaled)\n",
    "\n",
    "metrics()"
   ]
  },
  {
   "cell_type": "code",
   "execution_count": 42,
   "id": "566d56a0-454a-4a7b-9589-6b21cd6f1741",
   "metadata": {},
   "outputs": [
    {
     "name": "stdout",
     "output_type": "stream",
     "text": [
      "Balanced accuracy: 0.7454128440366973\n",
      "MCC: 0.595695985312917\n",
      "F1: 0.7909090909090909\n",
      "Confusion matrix: \n",
      "[[108   1]\n",
      " [  3   3]]\n",
      "Classification report: \n",
      "              precision    recall  f1-score   support\n",
      "\n",
      "     class 0       0.97      0.99      0.98       109\n",
      "     class 1       0.75      0.50      0.60         6\n",
      "\n",
      "    accuracy                           0.97       115\n",
      "   macro avg       0.86      0.75      0.79       115\n",
      "weighted avg       0.96      0.97      0.96       115\n",
      "\n"
     ]
    }
   ],
   "source": [
    "import lightgbm as lgb\n",
    "from lightgbm import LGBMClassifier\n",
    "clf = LGBMClassifier().fit(X_trainScaled, y_train)\n",
    "clf.predict(X_testScaled)\n",
    "\n",
    "metrics()"
   ]
  },
  {
   "cell_type": "markdown",
   "id": "a95c8e91-e624-406c-b84a-95d96ddb5921",
   "metadata": {
    "tags": []
   },
   "source": [
    "# Training and predicting on the left eye"
   ]
  },
  {
   "cell_type": "code",
   "execution_count": 43,
   "id": "d8a58277-d046-4862-84b6-a9b55ab3c5b2",
   "metadata": {
    "tags": []
   },
   "outputs": [],
   "source": [
    "#df2.iloc[: ,1]"
   ]
  },
  {
   "cell_type": "code",
   "execution_count": 44,
   "id": "a26af072-3d9c-4ae0-bfda-aecdd4028b36",
   "metadata": {
    "tags": []
   },
   "outputs": [],
   "source": [
    "X_OS = df2.iloc[:,2:]\n"
   ]
  },
  {
   "cell_type": "code",
   "execution_count": 45,
   "id": "4697af7a-38ce-4941-a6a8-d17b9ac0c6d4",
   "metadata": {},
   "outputs": [],
   "source": [
    "#df2.iloc[:,1]"
   ]
  },
  {
   "cell_type": "code",
   "execution_count": 46,
   "id": "f3e7aeac-8fc7-4c97-917b-0d5bc8fcc53c",
   "metadata": {},
   "outputs": [],
   "source": [
    "y_OS = df2.iloc[:,1]"
   ]
  },
  {
   "cell_type": "code",
   "execution_count": 47,
   "id": "f9852874-69e9-40f1-9cab-f5e7cb2f0f08",
   "metadata": {},
   "outputs": [],
   "source": [
    "#y_train for class 1\n",
    "y_Class1OS = y_OS.replace(2, 0)\n",
    "y_Class1OS = y_Class1OS.replace(3, 0)\n",
    "y_Class1OS = y_Class1OS.replace(4, 0)"
   ]
  },
  {
   "cell_type": "code",
   "execution_count": 48,
   "id": "061a651a-f934-40cf-983b-c3b35dc2878c",
   "metadata": {},
   "outputs": [
    {
     "data": {
      "text/plain": [
       "0.0    538\n",
       "1.0     35\n",
       "Name: MeiboOSinf-0, dtype: int64"
      ]
     },
     "execution_count": 48,
     "metadata": {},
     "output_type": "execute_result"
    }
   ],
   "source": [
    "y_Class1OS.value_counts()"
   ]
  },
  {
   "cell_type": "code",
   "execution_count": 49,
   "id": "aac38952-73a0-4d3a-969b-59f483652d3e",
   "metadata": {
    "tags": []
   },
   "outputs": [],
   "source": [
    "X_trainOS, X_testOS, y_trainOS, y_testOS = train_test_split(X_OS, y_Class1OS, test_size = 0.2, random_state=42)\n"
   ]
  },
  {
   "cell_type": "code",
   "execution_count": 50,
   "id": "aa9f532a-4d77-456a-a050-b035bd3fc216",
   "metadata": {},
   "outputs": [],
   "source": [
    "scaler = StandardScaler()\n",
    "X_trainScaledOS = scaler.fit_transform(X_trainOS)\n",
    "X_testScaledOS = scaler.transform(X_testOS)\n",
    "X_trainScaledOS = pd.DataFrame(X_trainScaledOS, columns = X_trainOS.columns.tolist(), index=X_trainOS.index)\n",
    "X_testScaledOS = pd.DataFrame(X_testScaledOS, columns = X_testOS.columns.tolist(), index=X_testOS.index)"
   ]
  },
  {
   "cell_type": "code",
   "execution_count": 51,
   "id": "b30e656c-6d73-4237-9b4e-d653a7ae716f",
   "metadata": {},
   "outputs": [
    {
     "data": {
      "text/plain": [
       "pandas.core.frame.DataFrame"
      ]
     },
     "execution_count": 51,
     "metadata": {},
     "output_type": "execute_result"
    }
   ],
   "source": [
    "type(X_trainScaledOS)\n",
    "type(X_testScaledOS)"
   ]
  },
  {
   "cell_type": "code",
   "execution_count": 52,
   "id": "65d25e94-0bb6-4326-9999-8012d64eacb3",
   "metadata": {},
   "outputs": [
    {
     "name": "stdout",
     "output_type": "stream",
     "text": [
      "(458, 90)\n",
      "(115, 90)\n",
      "(458,)\n",
      "(115,)\n"
     ]
    }
   ],
   "source": [
    "print(X_trainScaledOS.shape)\n",
    "print(X_testScaledOS.shape)\n",
    "print(y_trainOS.shape)\n",
    "print(y_testOS.shape)"
   ]
  },
  {
   "cell_type": "code",
   "execution_count": 53,
   "id": "7092db2a-0b64-47d0-8cb4-41c0c77c6ac2",
   "metadata": {},
   "outputs": [],
   "source": [
    "#X_trainScaledOS"
   ]
  },
  {
   "cell_type": "code",
   "execution_count": 54,
   "id": "5d17a2cf-cb44-4057-af5c-3bdaa2d159a7",
   "metadata": {},
   "outputs": [],
   "source": [
    "def metricsOS():\n",
    "    y_predOS = clf.predict(X_testScaledOS)\n",
    "    bal_acc = balanced_accuracy_score(y_testOS, y_predOS)\n",
    "    mcc = matthews_corrcoef(y_testOS, y_predOS)\n",
    "    f1 = f1_score(y_testOS, y_predOS, average=\"macro\")\n",
    "    cf = confusion_matrix(y_testOS, y_predOS)\n",
    "    target_names = ['class 0', 'class 1']\n",
    "    print(f\"Balanced accuracy: {bal_acc}\")\n",
    "    print(f\"MCC: {mcc}\")\n",
    "    print(f\"F1: {f1}\")\n",
    "    print(f\"Confusion matrix: \\n{cf}\")\n",
    "    print(f\"Classification report: \\n{classification_report(y_testOS, y_predOS, target_names=target_names)}\")"
   ]
  },
  {
   "cell_type": "code",
   "execution_count": 55,
   "id": "4d77aef4-2090-4d53-8e4d-73e16d91f3f4",
   "metadata": {
    "tags": []
   },
   "outputs": [
    {
     "name": "stdout",
     "output_type": "stream",
     "text": [
      "Balanced accuracy: 0.5\n",
      "MCC: 0.0\n",
      "F1: 0.48198198198198194\n",
      "Confusion matrix: \n",
      "[[107   0]\n",
      " [  8   0]]\n",
      "Classification report: \n",
      "              precision    recall  f1-score   support\n",
      "\n",
      "     class 0       0.93      1.00      0.96       107\n",
      "     class 1       0.00      0.00      0.00         8\n",
      "\n",
      "    accuracy                           0.93       115\n",
      "   macro avg       0.47      0.50      0.48       115\n",
      "weighted avg       0.87      0.93      0.90       115\n",
      "\n"
     ]
    },
    {
     "name": "stderr",
     "output_type": "stream",
     "text": [
      "C:\\Users\\fre_f\\anaconda3\\envs\\FF\\lib\\site-packages\\sklearn\\metrics\\_classification.py:1334: UndefinedMetricWarning: Precision and F-score are ill-defined and being set to 0.0 in labels with no predicted samples. Use `zero_division` parameter to control this behavior.\n",
      "  _warn_prf(average, modifier, msg_start, len(result))\n",
      "C:\\Users\\fre_f\\anaconda3\\envs\\FF\\lib\\site-packages\\sklearn\\metrics\\_classification.py:1334: UndefinedMetricWarning: Precision and F-score are ill-defined and being set to 0.0 in labels with no predicted samples. Use `zero_division` parameter to control this behavior.\n",
      "  _warn_prf(average, modifier, msg_start, len(result))\n",
      "C:\\Users\\fre_f\\anaconda3\\envs\\FF\\lib\\site-packages\\sklearn\\metrics\\_classification.py:1334: UndefinedMetricWarning: Precision and F-score are ill-defined and being set to 0.0 in labels with no predicted samples. Use `zero_division` parameter to control this behavior.\n",
      "  _warn_prf(average, modifier, msg_start, len(result))\n"
     ]
    }
   ],
   "source": [
    "from sklearn.dummy import DummyClassifier\n",
    "clf = DummyClassifier(strategy=\"most_frequent\")\n",
    "clf.fit(X_trainScaledOS, y_trainOS)\n",
    "clf.predict(X_testScaledOS)\n",
    "\n",
    "metricsOS()"
   ]
  },
  {
   "cell_type": "code",
   "execution_count": 56,
   "id": "91c53ffe-2056-49db-a586-47faa8daa13f",
   "metadata": {},
   "outputs": [
    {
     "name": "stdout",
     "output_type": "stream",
     "text": [
      "Balanced accuracy: 0.6314252336448598\n",
      "MCC: 0.19856376833012096\n",
      "F1: 0.5893719806763285\n",
      "Confusion matrix: \n",
      "[[95 12]\n",
      " [ 5  3]]\n",
      "Classification report: \n",
      "              precision    recall  f1-score   support\n",
      "\n",
      "     class 0       0.95      0.89      0.92       107\n",
      "     class 1       0.20      0.38      0.26         8\n",
      "\n",
      "    accuracy                           0.85       115\n",
      "   macro avg       0.57      0.63      0.59       115\n",
      "weighted avg       0.90      0.85      0.87       115\n",
      "\n"
     ]
    }
   ],
   "source": [
    "from sklearn.svm import LinearSVC\n",
    "clf = LinearSVC(max_iter=5000).fit(X_trainScaledOS, y_trainOS)\n",
    "clf.predict(X_testScaledOS)\n",
    "\n",
    "metricsOS()"
   ]
  },
  {
   "cell_type": "code",
   "execution_count": 57,
   "id": "4f0ad6e6-431d-4d3c-a192-9479ee5b3cd9",
   "metadata": {},
   "outputs": [
    {
     "name": "stdout",
     "output_type": "stream",
     "text": [
      "Balanced accuracy: 0.5\n",
      "MCC: 0.0\n",
      "F1: 0.48198198198198194\n",
      "Confusion matrix: \n",
      "[[107   0]\n",
      " [  8   0]]\n",
      "Classification report: \n",
      "              precision    recall  f1-score   support\n",
      "\n",
      "     class 0       0.93      1.00      0.96       107\n",
      "     class 1       0.00      0.00      0.00         8\n",
      "\n",
      "    accuracy                           0.93       115\n",
      "   macro avg       0.47      0.50      0.48       115\n",
      "weighted avg       0.87      0.93      0.90       115\n",
      "\n"
     ]
    },
    {
     "name": "stderr",
     "output_type": "stream",
     "text": [
      "C:\\Users\\fre_f\\anaconda3\\envs\\FF\\lib\\site-packages\\sklearn\\metrics\\_classification.py:1334: UndefinedMetricWarning: Precision and F-score are ill-defined and being set to 0.0 in labels with no predicted samples. Use `zero_division` parameter to control this behavior.\n",
      "  _warn_prf(average, modifier, msg_start, len(result))\n",
      "C:\\Users\\fre_f\\anaconda3\\envs\\FF\\lib\\site-packages\\sklearn\\metrics\\_classification.py:1334: UndefinedMetricWarning: Precision and F-score are ill-defined and being set to 0.0 in labels with no predicted samples. Use `zero_division` parameter to control this behavior.\n",
      "  _warn_prf(average, modifier, msg_start, len(result))\n",
      "C:\\Users\\fre_f\\anaconda3\\envs\\FF\\lib\\site-packages\\sklearn\\metrics\\_classification.py:1334: UndefinedMetricWarning: Precision and F-score are ill-defined and being set to 0.0 in labels with no predicted samples. Use `zero_division` parameter to control this behavior.\n",
      "  _warn_prf(average, modifier, msg_start, len(result))\n"
     ]
    }
   ],
   "source": [
    "clf = RandomForestClassifier().fit(X_trainScaledOS, y_trainOS)\n",
    "clf.predict(X_testScaledOS)\n",
    "\n",
    "metricsOS()"
   ]
  },
  {
   "cell_type": "code",
   "execution_count": 58,
   "id": "637e1671-072d-4fdb-9061-328e77d3b624",
   "metadata": {},
   "outputs": [
    {
     "name": "stdout",
     "output_type": "stream",
     "text": [
      "Balanced accuracy: 0.5\n",
      "MCC: 0.0\n",
      "F1: 0.48198198198198194\n",
      "Confusion matrix: \n",
      "[[107   0]\n",
      " [  8   0]]\n",
      "Classification report: \n",
      "              precision    recall  f1-score   support\n",
      "\n",
      "     class 0       0.93      1.00      0.96       107\n",
      "     class 1       0.00      0.00      0.00         8\n",
      "\n",
      "    accuracy                           0.93       115\n",
      "   macro avg       0.47      0.50      0.48       115\n",
      "weighted avg       0.87      0.93      0.90       115\n",
      "\n"
     ]
    },
    {
     "name": "stderr",
     "output_type": "stream",
     "text": [
      "C:\\Users\\fre_f\\anaconda3\\envs\\FF\\lib\\site-packages\\sklearn\\metrics\\_classification.py:1334: UndefinedMetricWarning: Precision and F-score are ill-defined and being set to 0.0 in labels with no predicted samples. Use `zero_division` parameter to control this behavior.\n",
      "  _warn_prf(average, modifier, msg_start, len(result))\n",
      "C:\\Users\\fre_f\\anaconda3\\envs\\FF\\lib\\site-packages\\sklearn\\metrics\\_classification.py:1334: UndefinedMetricWarning: Precision and F-score are ill-defined and being set to 0.0 in labels with no predicted samples. Use `zero_division` parameter to control this behavior.\n",
      "  _warn_prf(average, modifier, msg_start, len(result))\n",
      "C:\\Users\\fre_f\\anaconda3\\envs\\FF\\lib\\site-packages\\sklearn\\metrics\\_classification.py:1334: UndefinedMetricWarning: Precision and F-score are ill-defined and being set to 0.0 in labels with no predicted samples. Use `zero_division` parameter to control this behavior.\n",
      "  _warn_prf(average, modifier, msg_start, len(result))\n"
     ]
    }
   ],
   "source": [
    "clf = RandomForestClassifier(n_estimators=5000, criterion=\"gini\", bootstrap=True, oob_score=False, warm_start=True, random_state=42).fit(X_trainScaledOS, y_trainOS)\n",
    "clf.predict(X_testScaledOS)\n",
    "\n",
    "metricsOS()"
   ]
  },
  {
   "cell_type": "code",
   "execution_count": 59,
   "id": "8167642e-6c3e-4d6d-a07b-1fc89867b1f6",
   "metadata": {},
   "outputs": [
    {
     "name": "stdout",
     "output_type": "stream",
     "text": [
      "Balanced accuracy: 0.49065420560747663\n",
      "MCC: -0.03637716757892587\n",
      "F1: 0.47727272727272724\n",
      "Confusion matrix: \n",
      "[[105   2]\n",
      " [  8   0]]\n",
      "Classification report: \n",
      "              precision    recall  f1-score   support\n",
      "\n",
      "     class 0       0.93      0.98      0.95       107\n",
      "     class 1       0.00      0.00      0.00         8\n",
      "\n",
      "    accuracy                           0.91       115\n",
      "   macro avg       0.46      0.49      0.48       115\n",
      "weighted avg       0.86      0.91      0.89       115\n",
      "\n"
     ]
    }
   ],
   "source": [
    "neigh = KNeighborsClassifier(n_neighbors=3)\n",
    "clf = neigh.fit(X_trainScaledOS, y_trainOS)\n",
    "clf.predict(X_testScaledOS)\n",
    "\n",
    "metricsOS()"
   ]
  },
  {
   "cell_type": "code",
   "execution_count": 60,
   "id": "e5d44b98-dcb0-4eb1-a3f8-70c0c8821f37",
   "metadata": {},
   "outputs": [
    {
     "name": "stdout",
     "output_type": "stream",
     "text": [
      "Balanced accuracy: 0.5\n",
      "MCC: 0.0\n",
      "F1: 0.06504065040650406\n",
      "Confusion matrix: \n",
      "[[  0 107]\n",
      " [  0   8]]\n",
      "Classification report: \n",
      "              precision    recall  f1-score   support\n",
      "\n",
      "     class 0       0.00      0.00      0.00       107\n",
      "     class 1       0.07      1.00      0.13         8\n",
      "\n",
      "    accuracy                           0.07       115\n",
      "   macro avg       0.03      0.50      0.07       115\n",
      "weighted avg       0.00      0.07      0.01       115\n",
      "\n"
     ]
    },
    {
     "name": "stderr",
     "output_type": "stream",
     "text": [
      "C:\\Users\\fre_f\\anaconda3\\envs\\FF\\lib\\site-packages\\sklearn\\metrics\\_classification.py:1334: UndefinedMetricWarning: Precision and F-score are ill-defined and being set to 0.0 in labels with no predicted samples. Use `zero_division` parameter to control this behavior.\n",
      "  _warn_prf(average, modifier, msg_start, len(result))\n",
      "C:\\Users\\fre_f\\anaconda3\\envs\\FF\\lib\\site-packages\\sklearn\\metrics\\_classification.py:1334: UndefinedMetricWarning: Precision and F-score are ill-defined and being set to 0.0 in labels with no predicted samples. Use `zero_division` parameter to control this behavior.\n",
      "  _warn_prf(average, modifier, msg_start, len(result))\n",
      "C:\\Users\\fre_f\\anaconda3\\envs\\FF\\lib\\site-packages\\sklearn\\metrics\\_classification.py:1334: UndefinedMetricWarning: Precision and F-score are ill-defined and being set to 0.0 in labels with no predicted samples. Use `zero_division` parameter to control this behavior.\n",
      "  _warn_prf(average, modifier, msg_start, len(result))\n"
     ]
    }
   ],
   "source": [
    "# lbfgs, sgd, adam\n",
    "#logistic, tanh, relu\n",
    "from sklearn.neural_network import MLPClassifier\n",
    "clf = MLPClassifier(solver=\"adam\", activation=\"relu\", learning_rate=\"constant\", random_state=42, max_iter=3000, verbose=False).fit(X_trainScaledOS, y_trainOS)\n",
    "clf.out_activation_=\"softmax\"\n",
    "clf.predict(X_testScaledOS)\n",
    "\n",
    "metricsOS()"
   ]
  },
  {
   "cell_type": "code",
   "execution_count": 61,
   "id": "73e1b9d4-66eb-4fc4-8a9e-af7ae01ab803",
   "metadata": {},
   "outputs": [
    {
     "name": "stdout",
     "output_type": "stream",
     "text": [
      "Balanced accuracy: 0.6828271028037383\n",
      "MCC: 0.5077102953881362\n",
      "F1: 0.7362385321100917\n",
      "Confusion matrix: \n",
      "[[106   1]\n",
      " [  5   3]]\n",
      "Classification report: \n",
      "              precision    recall  f1-score   support\n",
      "\n",
      "     class 0       0.95      0.99      0.97       107\n",
      "     class 1       0.75      0.38      0.50         8\n",
      "\n",
      "    accuracy                           0.95       115\n",
      "   macro avg       0.85      0.68      0.74       115\n",
      "weighted avg       0.94      0.95      0.94       115\n",
      "\n"
     ]
    }
   ],
   "source": [
    "from sklearn.ensemble import AdaBoostClassifier\n",
    "clf = AdaBoostClassifier(n_estimators=50, random_state=42).fit(X_trainScaledOS, y_trainOS)\n",
    "clf.predict(X_testScaledOS)\n",
    "\n",
    "metricsOS()"
   ]
  },
  {
   "cell_type": "code",
   "execution_count": 62,
   "id": "aa0fd491-f669-4208-ac71-a6e7d1fe2e3f",
   "metadata": {},
   "outputs": [
    {
     "name": "stdout",
     "output_type": "stream",
     "text": [
      "Balanced accuracy: 0.5\n",
      "MCC: 0.0\n",
      "F1: 0.48198198198198194\n",
      "Confusion matrix: \n",
      "[[107   0]\n",
      " [  8   0]]\n",
      "Classification report: \n",
      "              precision    recall  f1-score   support\n",
      "\n",
      "     class 0       0.93      1.00      0.96       107\n",
      "     class 1       0.00      0.00      0.00         8\n",
      "\n",
      "    accuracy                           0.93       115\n",
      "   macro avg       0.47      0.50      0.48       115\n",
      "weighted avg       0.87      0.93      0.90       115\n",
      "\n"
     ]
    },
    {
     "name": "stderr",
     "output_type": "stream",
     "text": [
      "C:\\Users\\fre_f\\anaconda3\\envs\\FF\\lib\\site-packages\\sklearn\\metrics\\_classification.py:1334: UndefinedMetricWarning: Precision and F-score are ill-defined and being set to 0.0 in labels with no predicted samples. Use `zero_division` parameter to control this behavior.\n",
      "  _warn_prf(average, modifier, msg_start, len(result))\n",
      "C:\\Users\\fre_f\\anaconda3\\envs\\FF\\lib\\site-packages\\sklearn\\metrics\\_classification.py:1334: UndefinedMetricWarning: Precision and F-score are ill-defined and being set to 0.0 in labels with no predicted samples. Use `zero_division` parameter to control this behavior.\n",
      "  _warn_prf(average, modifier, msg_start, len(result))\n",
      "C:\\Users\\fre_f\\anaconda3\\envs\\FF\\lib\\site-packages\\sklearn\\metrics\\_classification.py:1334: UndefinedMetricWarning: Precision and F-score are ill-defined and being set to 0.0 in labels with no predicted samples. Use `zero_division` parameter to control this behavior.\n",
      "  _warn_prf(average, modifier, msg_start, len(result))\n"
     ]
    }
   ],
   "source": [
    "from sklearn.ensemble import HistGradientBoostingClassifier\n",
    "clf = HistGradientBoostingClassifier().fit(X_trainScaledOS, y_trainOS)\n",
    "clf.predict(X_testScaledOS)\n",
    "\n",
    "metricsOS()"
   ]
  },
  {
   "cell_type": "code",
   "execution_count": 63,
   "id": "df8cc3f0-5ea9-4e40-8a9c-ea2c07378b30",
   "metadata": {},
   "outputs": [
    {
     "name": "stdout",
     "output_type": "stream",
     "text": [
      "Balanced accuracy: 0.5391355140186915\n",
      "MCC: 0.08954658875326628\n",
      "F1: 0.5436507936507937\n",
      "Confusion matrix: \n",
      "[[102   5]\n",
      " [  7   1]]\n",
      "Classification report: \n",
      "              precision    recall  f1-score   support\n",
      "\n",
      "     class 0       0.94      0.95      0.94       107\n",
      "     class 1       0.17      0.12      0.14         8\n",
      "\n",
      "    accuracy                           0.90       115\n",
      "   macro avg       0.55      0.54      0.54       115\n",
      "weighted avg       0.88      0.90      0.89       115\n",
      "\n"
     ]
    }
   ],
   "source": [
    "from sklearn.ensemble import GradientBoostingClassifier\n",
    "clf = GradientBoostingClassifier(n_estimators=1000, learning_rate=0.5, max_depth=None, random_state=42).fit(X_trainScaledOS, y_trainOS)\n",
    "clf.predict(X_testScaledOS)\n",
    "\n",
    "metricsOS()"
   ]
  },
  {
   "cell_type": "code",
   "execution_count": 64,
   "id": "813b2520-326c-47d6-ae4f-ad047cbd7320",
   "metadata": {},
   "outputs": [
    {
     "name": "stdout",
     "output_type": "stream",
     "text": [
      "Balanced accuracy: 0.5\n",
      "MCC: 0.0\n",
      "F1: 0.48198198198198194\n",
      "Confusion matrix: \n",
      "[[107   0]\n",
      " [  8   0]]\n",
      "Classification report: \n",
      "              precision    recall  f1-score   support\n",
      "\n",
      "     class 0       0.93      1.00      0.96       107\n",
      "     class 1       0.00      0.00      0.00         8\n",
      "\n",
      "    accuracy                           0.93       115\n",
      "   macro avg       0.47      0.50      0.48       115\n",
      "weighted avg       0.87      0.93      0.90       115\n",
      "\n"
     ]
    },
    {
     "name": "stderr",
     "output_type": "stream",
     "text": [
      "C:\\Users\\fre_f\\anaconda3\\envs\\FF\\lib\\site-packages\\sklearn\\metrics\\_classification.py:1334: UndefinedMetricWarning: Precision and F-score are ill-defined and being set to 0.0 in labels with no predicted samples. Use `zero_division` parameter to control this behavior.\n",
      "  _warn_prf(average, modifier, msg_start, len(result))\n",
      "C:\\Users\\fre_f\\anaconda3\\envs\\FF\\lib\\site-packages\\sklearn\\metrics\\_classification.py:1334: UndefinedMetricWarning: Precision and F-score are ill-defined and being set to 0.0 in labels with no predicted samples. Use `zero_division` parameter to control this behavior.\n",
      "  _warn_prf(average, modifier, msg_start, len(result))\n",
      "C:\\Users\\fre_f\\anaconda3\\envs\\FF\\lib\\site-packages\\sklearn\\metrics\\_classification.py:1334: UndefinedMetricWarning: Precision and F-score are ill-defined and being set to 0.0 in labels with no predicted samples. Use `zero_division` parameter to control this behavior.\n",
      "  _warn_prf(average, modifier, msg_start, len(result))\n"
     ]
    }
   ],
   "source": [
    "from xgboost import XGBClassifier\n",
    "clf = XGBClassifier(max_depth=10, eta=0.3, reg_lambda=50, alpha=0).fit(X_trainScaledOS, y_trainOS)\n",
    "clf.predict(X_testScaledOS)\n",
    "\n",
    "metricsOS()"
   ]
  },
  {
   "cell_type": "code",
   "execution_count": 65,
   "id": "abac21f4-5e71-4fc6-b2ab-ae99f7e62fca",
   "metadata": {},
   "outputs": [
    {
     "name": "stdout",
     "output_type": "stream",
     "text": [
      "Balanced accuracy: 0.6203271028037383\n",
      "MCC: 0.3841144978851179\n",
      "F1: 0.6658364466583644\n",
      "Confusion matrix: \n",
      "[[106   1]\n",
      " [  6   2]]\n",
      "Classification report: \n",
      "              precision    recall  f1-score   support\n",
      "\n",
      "     class 0       0.95      0.99      0.97       107\n",
      "     class 1       0.67      0.25      0.36         8\n",
      "\n",
      "    accuracy                           0.94       115\n",
      "   macro avg       0.81      0.62      0.67       115\n",
      "weighted avg       0.93      0.94      0.93       115\n",
      "\n"
     ]
    }
   ],
   "source": [
    "import lightgbm as lgb\n",
    "from lightgbm import LGBMClassifier\n",
    "clf = LGBMClassifier().fit(X_trainScaledOS, y_trainOS)\n",
    "clf.predict(X_testScaledOS)\n",
    "\n",
    "metricsOS()"
   ]
  }
 ],
 "metadata": {
  "kernelspec": {
   "display_name": "Python 3 (ipykernel)",
   "language": "python",
   "name": "python3"
  },
  "language_info": {
   "codemirror_mode": {
    "name": "ipython",
    "version": 3
   },
   "file_extension": ".py",
   "mimetype": "text/x-python",
   "name": "python",
   "nbconvert_exporter": "python",
   "pygments_lexer": "ipython3",
   "version": "3.9.15"
  }
 },
 "nbformat": 4,
 "nbformat_minor": 5
}
