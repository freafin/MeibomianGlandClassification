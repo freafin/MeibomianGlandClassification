{
 "cells": [
  {
   "cell_type": "markdown",
   "id": "a8ce3df8-2aad-4ce6-83fb-b4e8be9c659e",
   "metadata": {
    "tags": []
   },
   "source": [
    "# Preprocessing"
   ]
  },
  {
   "cell_type": "code",
   "execution_count": 1,
   "id": "e072d181-f7da-4243-952f-8b9989ee4eee",
   "metadata": {},
   "outputs": [],
   "source": [
    "import pandas as pd\n",
    "import numpy as np\n",
    "from sklearn.impute import SimpleImputer\n",
    "from sklearn.impute import KNNImputer\n",
    "from sklearn.experimental import enable_iterative_imputer\n",
    "from sklearn.impute import IterativeImputer\n",
    "from sklearn.ensemble import RandomForestClassifier\n",
    "from sklearn.neighbors import KNeighborsClassifier\n",
    "from sklearn.model_selection import train_test_split\n",
    "from sklearn import metrics\n",
    "from sklearn.metrics import balanced_accuracy_score\n",
    "from sklearn.metrics import matthews_corrcoef\n",
    "from sklearn.metrics import f1_score\n",
    "from sklearn.metrics import confusion_matrix\n",
    "from sklearn.metrics import classification_report\n",
    "import matplotlib.pyplot as plt\n",
    "import seaborn as sns"
   ]
  },
  {
   "cell_type": "code",
   "execution_count": 2,
   "id": "db6043d6-203e-4647-8d82-02e55785aa91",
   "metadata": {},
   "outputs": [],
   "source": [
    "df1 = pd.read_csv(\"c:/BLclinicalremoved.csv\", index_col = \"ID\", encoding=\"ansi\")\n",
    "#df1.head()"
   ]
  },
  {
   "cell_type": "code",
   "execution_count": 3,
   "id": "46c88f08-7659-42f7-86b0-4dc252f2c93e",
   "metadata": {
    "tags": []
   },
   "outputs": [
    {
     "data": {
      "text/plain": [
       "MeiboODinf-0       float64\n",
       "MeiboOSinf-0       float64\n",
       "Kjønn M=0          float64\n",
       "Alder              float64\n",
       "Synskorr.kir       float64\n",
       "                    ...   \n",
       "Skjermbruk-0       float64\n",
       "Kontaktlinser-0    float64\n",
       "Mascara-0          float64\n",
       "Eyeliner-0         float64\n",
       "AC-0               float64\n",
       "Length: 92, dtype: object"
      ]
     },
     "execution_count": 3,
     "metadata": {},
     "output_type": "execute_result"
    }
   ],
   "source": [
    "df1.dtypes"
   ]
  },
  {
   "cell_type": "code",
   "execution_count": 4,
   "id": "a1308ca0-36f1-4366-8ea6-a29d77fb5c30",
   "metadata": {
    "tags": []
   },
   "outputs": [
    {
     "data": {
      "text/plain": [
       "array(['0', '2', '7', '4', '5', '6', '3', '1', '8', '9', '10', ' ', nan],\n",
       "      dtype=object)"
      ]
     },
     "execution_count": 4,
     "metadata": {},
     "output_type": "execute_result"
    }
   ],
   "source": [
    "df1[\"Vinter\"].unique()\n",
    "df1[\"RensVarme\"].unique()"
   ]
  },
  {
   "cell_type": "code",
   "execution_count": 5,
   "id": "6eac606b-97ca-4557-8763-e1a281d199a1",
   "metadata": {},
   "outputs": [],
   "source": [
    "#Remove empty strings\n",
    "df1['Vinter'] = df1['Vinter'].replace(\" \", np.nan)\n",
    "df1['RensVarme'] = df1['RensVarme'].replace(\" \", np.nan)"
   ]
  },
  {
   "cell_type": "code",
   "execution_count": 6,
   "id": "3e05995b-d0fc-4560-8bfa-121018b36ffe",
   "metadata": {},
   "outputs": [
    {
     "data": {
      "text/plain": [
       "array(['0', '2', '7', '4', '5', '6', '3', '1', '8', '9', '10', nan],\n",
       "      dtype=object)"
      ]
     },
     "execution_count": 6,
     "metadata": {},
     "output_type": "execute_result"
    }
   ],
   "source": [
    "df1[\"Vinter\"].unique()\n",
    "df1[\"RensVarme\"].unique()"
   ]
  },
  {
   "cell_type": "code",
   "execution_count": 7,
   "id": "6f7631f9-6730-4ce4-918a-c0b4caa90313",
   "metadata": {},
   "outputs": [],
   "source": [
    "#Convert dtype\n",
    "df1['RensVarme']=df1['RensVarme'].astype('float')\n",
    "df1['Vinter']=df1['Vinter'].astype('float')"
   ]
  },
  {
   "cell_type": "code",
   "execution_count": 8,
   "id": "06bc5a40-09bc-4a0f-b90b-98e9457e53c9",
   "metadata": {},
   "outputs": [
    {
     "data": {
      "text/plain": [
       "array([ 2.,  4.,  3.,  1., nan,  0.])"
      ]
     },
     "execution_count": 8,
     "metadata": {},
     "output_type": "execute_result"
    }
   ],
   "source": [
    "df1['MeiboODinf-0'].unique()\n"
   ]
  },
  {
   "cell_type": "code",
   "execution_count": 9,
   "id": "0b138e63-7211-40a3-bc19-2018a1c83b24",
   "metadata": {},
   "outputs": [
    {
     "data": {
      "text/plain": [
       "2.0    215\n",
       "3.0    183\n",
       "4.0    129\n",
       "1.0     44\n",
       "0.0      2\n",
       "Name: MeiboODinf-0, dtype: int64"
      ]
     },
     "execution_count": 9,
     "metadata": {},
     "output_type": "execute_result"
    }
   ],
   "source": [
    "df1[\"MeiboODinf-0\"].value_counts()"
   ]
  },
  {
   "cell_type": "code",
   "execution_count": 10,
   "id": "470a8113-bcc6-45d1-a174-6c650d87c87f",
   "metadata": {},
   "outputs": [],
   "source": [
    "#Implement class 0 in class 1\n",
    "df1['MeiboODinf-0'] = df1['MeiboODinf-0'].replace(0, 1)\n",
    "df1['MeiboOSinf-0'] = df1['MeiboOSinf-0'].replace(0, 1)"
   ]
  },
  {
   "cell_type": "code",
   "execution_count": 11,
   "id": "2ba38d87-987d-4831-9222-8221968702de",
   "metadata": {},
   "outputs": [
    {
     "data": {
      "text/plain": [
       "(594, 92)"
      ]
     },
     "execution_count": 11,
     "metadata": {},
     "output_type": "execute_result"
    }
   ],
   "source": [
    "df1.shape"
   ]
  },
  {
   "cell_type": "code",
   "execution_count": 12,
   "id": "5bd3eaa1-610f-43d8-87e2-b2b092061818",
   "metadata": {},
   "outputs": [],
   "source": [
    "df1 = df1.dropna(axis=0, subset=[\"MeiboODinf-0\"])\n",
    "df1 = df1.dropna(axis=0, subset=[\"MeiboOSinf-0\"])"
   ]
  },
  {
   "cell_type": "code",
   "execution_count": 13,
   "id": "127ff848-6d01-4c31-b05d-6ca250d6a3e6",
   "metadata": {},
   "outputs": [
    {
     "data": {
      "text/plain": [
       "(573, 92)"
      ]
     },
     "execution_count": 13,
     "metadata": {},
     "output_type": "execute_result"
    }
   ],
   "source": [
    "df1.shape"
   ]
  },
  {
   "cell_type": "code",
   "execution_count": 14,
   "id": "f6d7762f-60f6-4323-ae09-e5a9fdbb40c8",
   "metadata": {},
   "outputs": [
    {
     "data": {
      "text/plain": [
       "array([2., 4., 3., 1.])"
      ]
     },
     "execution_count": 14,
     "metadata": {},
     "output_type": "execute_result"
    }
   ],
   "source": [
    "df1['MeiboODinf-0'].unique()\n",
    "df1['MeiboOSinf-0'].unique()"
   ]
  },
  {
   "cell_type": "code",
   "execution_count": 15,
   "id": "33db8170-af48-4065-9b43-ae7b19f603e9",
   "metadata": {},
   "outputs": [],
   "source": [
    "#df1.iloc[:,2:92]"
   ]
  },
  {
   "cell_type": "code",
   "execution_count": 16,
   "id": "f798936a-ca92-4acd-bd04-2163a7c96616",
   "metadata": {},
   "outputs": [],
   "source": [
    "#imp = SimpleImputer(strategy='mean')\n",
    "#imp = IterativeImputer(random_state=42, max_iter=100)\n",
    "imp = KNNImputer(n_neighbors=3, weights=\"uniform\")\n",
    "df_imputed = imp.fit_transform(df1)\n",
    "df2 = pd.DataFrame(df_imputed, columns = df1.columns.tolist(), index = df1.index)\n",
    "#df2"
   ]
  },
  {
   "cell_type": "code",
   "execution_count": 17,
   "id": "8de880d5-ece1-4a42-a38f-45da0e9005d0",
   "metadata": {},
   "outputs": [],
   "source": [
    "#print(df2)"
   ]
  },
  {
   "cell_type": "code",
   "execution_count": 18,
   "id": "07230563-2569-47c9-9830-c1c51131c45c",
   "metadata": {},
   "outputs": [],
   "source": [
    "#Using Pearson Correlation\n",
    "#plt.figure(figsize=(12,10))\n",
    "#cor = df2.corr()\n",
    "#sns.heatmap(cor, annot=True, cmap=plt.cm.Reds)\n",
    "#plt.show()"
   ]
  },
  {
   "cell_type": "code",
   "execution_count": 19,
   "id": "e4358de4-3300-48df-81eb-3009b68506b3",
   "metadata": {},
   "outputs": [
    {
     "data": {
      "text/plain": [
       "pandas.core.frame.DataFrame"
      ]
     },
     "execution_count": 19,
     "metadata": {},
     "output_type": "execute_result"
    }
   ],
   "source": [
    "type(df2)"
   ]
  },
  {
   "cell_type": "code",
   "execution_count": 20,
   "id": "58b7a8f0-511e-4bfb-9d1d-2e6e1343abee",
   "metadata": {},
   "outputs": [],
   "source": [
    "#df2.iloc[:,0:47]"
   ]
  },
  {
   "cell_type": "code",
   "execution_count": 21,
   "id": "6404a988-7c17-4617-9ee4-fa75c7e731f7",
   "metadata": {},
   "outputs": [],
   "source": [
    "#df2.iloc[:,0]"
   ]
  },
  {
   "cell_type": "code",
   "execution_count": 22,
   "id": "e2168420-c291-47d4-a6b8-fd676952a82f",
   "metadata": {},
   "outputs": [],
   "source": [
    "#df2.iloc[:,2:] "
   ]
  },
  {
   "cell_type": "code",
   "execution_count": 23,
   "id": "fe25c41b-df33-4746-8432-d9d498478499",
   "metadata": {},
   "outputs": [],
   "source": [
    "#plt.hist(df2[47], bins=5)"
   ]
  },
  {
   "cell_type": "code",
   "execution_count": 24,
   "id": "40a76259-07f6-401f-bfca-9c2b9ad7a9ff",
   "metadata": {
    "tags": []
   },
   "outputs": [],
   "source": [
    "X = df2.iloc[:,2:]\n"
   ]
  },
  {
   "cell_type": "code",
   "execution_count": 25,
   "id": "314624c8-db8c-4906-8b58-9009bfa0e6da",
   "metadata": {},
   "outputs": [],
   "source": [
    "y = df2.iloc[:,0]"
   ]
  },
  {
   "cell_type": "code",
   "execution_count": 26,
   "id": "683c1875-459c-4224-a951-04478029ac00",
   "metadata": {},
   "outputs": [],
   "source": [
    "#y_train for class 2\n",
    "y_Class2OD = y.replace(1, 0)\n",
    "y_Class2OD = y_Class2OD.replace(2, 1)\n",
    "y_Class2OD = y_Class2OD.replace(3, 0)\n",
    "y_Class2OD = y_Class2OD.replace(4, 0)"
   ]
  },
  {
   "cell_type": "code",
   "execution_count": 27,
   "id": "d4bccc4b-2da9-4725-89a0-470ad0dc7eac",
   "metadata": {},
   "outputs": [
    {
     "data": {
      "text/plain": [
       "0.0    358\n",
       "1.0    215\n",
       "Name: MeiboODinf-0, dtype: int64"
      ]
     },
     "execution_count": 27,
     "metadata": {},
     "output_type": "execute_result"
    }
   ],
   "source": [
    "y_Class2OD.value_counts()"
   ]
  },
  {
   "cell_type": "code",
   "execution_count": 28,
   "id": "e3090967-e606-4cf3-b8b0-c745dd445236",
   "metadata": {},
   "outputs": [
    {
     "data": {
      "text/plain": [
       "2.0    215\n",
       "3.0    183\n",
       "4.0    129\n",
       "1.0     46\n",
       "Name: MeiboODinf-0, dtype: int64"
      ]
     },
     "execution_count": 28,
     "metadata": {},
     "output_type": "execute_result"
    }
   ],
   "source": [
    "y.value_counts()"
   ]
  },
  {
   "cell_type": "code",
   "execution_count": 29,
   "id": "8834b55e-f53a-45d3-9d1a-10e9c7fe2f51",
   "metadata": {
    "tags": []
   },
   "outputs": [],
   "source": [
    "X_train, X_test, y_train, y_test = train_test_split(X, y_Class2OD, test_size = 0.2, random_state=42)\n"
   ]
  },
  {
   "cell_type": "code",
   "execution_count": 30,
   "id": "fe613cee-7aa0-491d-8c51-22312e975c91",
   "metadata": {
    "tags": []
   },
   "outputs": [
    {
     "name": "stdout",
     "output_type": "stream",
     "text": [
      "(458, 90)\n",
      "(115, 90)\n",
      "(458,)\n",
      "(115,)\n"
     ]
    }
   ],
   "source": [
    "print(X_train.shape)\n",
    "print(X_test.shape)\n",
    "print(y_train.shape)\n",
    "print(y_test.shape)"
   ]
  },
  {
   "cell_type": "code",
   "execution_count": 31,
   "id": "efc9ff4b-6935-4de9-afe2-710067368a1b",
   "metadata": {},
   "outputs": [],
   "source": [
    "from sklearn.preprocessing import StandardScaler\n",
    "scaler = StandardScaler()\n",
    "X_trainScaled = scaler.fit_transform(X_train)\n",
    "X_testScaled = scaler.transform(X_test)\n",
    "X_trainScaled = pd.DataFrame(X_trainScaled, columns = X_train.columns.tolist(), index=X_train.index)\n",
    "X_testScaled = pd.DataFrame(X_testScaled, columns = X_test.columns.tolist(), index=X_test.index)"
   ]
  },
  {
   "cell_type": "code",
   "execution_count": 32,
   "id": "22ed4764-4291-48b6-9412-69f89c3c0eb8",
   "metadata": {},
   "outputs": [],
   "source": [
    "#X_trainScaled"
   ]
  },
  {
   "cell_type": "code",
   "execution_count": 33,
   "id": "f56895bc-d116-4ac1-bd80-6456dfabb976",
   "metadata": {},
   "outputs": [
    {
     "name": "stdout",
     "output_type": "stream",
     "text": [
      "(458, 90)\n",
      "(115, 90)\n",
      "(458,)\n",
      "(115,)\n"
     ]
    }
   ],
   "source": [
    "print(X_trainScaled.shape)\n",
    "print(X_testScaled.shape)\n",
    "print(y_train.shape)\n",
    "print(y_test.shape)"
   ]
  },
  {
   "cell_type": "code",
   "execution_count": 34,
   "id": "1a54ab5f-c7d9-4b3e-8c25-d22c95ea3e20",
   "metadata": {},
   "outputs": [],
   "source": [
    "def metrics():\n",
    "    y_pred = clf.predict(X_testScaled)\n",
    "    bal_acc = balanced_accuracy_score(y_test, y_pred)\n",
    "    mcc = matthews_corrcoef(y_test, y_pred)\n",
    "    f1 = f1_score(y_test, y_pred, average=\"macro\")\n",
    "    cf = confusion_matrix(y_test, y_pred)\n",
    "    target_names = ['class 0', 'class 1']\n",
    "    print(f\"Balanced accuracy: {bal_acc}\")\n",
    "    print(f\"MCC: {mcc}\")\n",
    "    print(f\"F1: {f1}\")\n",
    "    print(f\"Confusion matrix: \\n{cf}\")\n",
    "    print(f\"Classification report: \\n{classification_report(y_test, y_pred, target_names=target_names)}\")"
   ]
  },
  {
   "cell_type": "markdown",
   "id": "11057d2e-a4c4-4605-8ca6-1356086022f6",
   "metadata": {
    "tags": []
   },
   "source": [
    "# Training and predicting on the right eye"
   ]
  },
  {
   "cell_type": "code",
   "execution_count": 35,
   "id": "b61bee65-cb4e-4212-b442-1fd4e3c42a54",
   "metadata": {
    "tags": []
   },
   "outputs": [
    {
     "name": "stdout",
     "output_type": "stream",
     "text": [
      "Balanced accuracy: 0.5\n",
      "MCC: 0.0\n",
      "F1: 0.3611111111111111\n",
      "Confusion matrix: \n",
      "[[65  0]\n",
      " [50  0]]\n",
      "Classification report: \n",
      "              precision    recall  f1-score   support\n",
      "\n",
      "     class 0       0.57      1.00      0.72        65\n",
      "     class 1       0.00      0.00      0.00        50\n",
      "\n",
      "    accuracy                           0.57       115\n",
      "   macro avg       0.28      0.50      0.36       115\n",
      "weighted avg       0.32      0.57      0.41       115\n",
      "\n"
     ]
    },
    {
     "name": "stderr",
     "output_type": "stream",
     "text": [
      "C:\\Users\\fre_f\\anaconda3\\envs\\FF\\lib\\site-packages\\sklearn\\metrics\\_classification.py:1334: UndefinedMetricWarning: Precision and F-score are ill-defined and being set to 0.0 in labels with no predicted samples. Use `zero_division` parameter to control this behavior.\n",
      "  _warn_prf(average, modifier, msg_start, len(result))\n",
      "C:\\Users\\fre_f\\anaconda3\\envs\\FF\\lib\\site-packages\\sklearn\\metrics\\_classification.py:1334: UndefinedMetricWarning: Precision and F-score are ill-defined and being set to 0.0 in labels with no predicted samples. Use `zero_division` parameter to control this behavior.\n",
      "  _warn_prf(average, modifier, msg_start, len(result))\n",
      "C:\\Users\\fre_f\\anaconda3\\envs\\FF\\lib\\site-packages\\sklearn\\metrics\\_classification.py:1334: UndefinedMetricWarning: Precision and F-score are ill-defined and being set to 0.0 in labels with no predicted samples. Use `zero_division` parameter to control this behavior.\n",
      "  _warn_prf(average, modifier, msg_start, len(result))\n"
     ]
    }
   ],
   "source": [
    "from sklearn.dummy import DummyClassifier\n",
    "clf = DummyClassifier(strategy=\"most_frequent\")\n",
    "clf.fit(X_trainScaled, y_train)\n",
    "clf.predict(X_testScaled)\n",
    "\n",
    "metrics()\n"
   ]
  },
  {
   "cell_type": "code",
   "execution_count": 36,
   "id": "c2ad9573-03a5-4486-9ec2-af71c03d472a",
   "metadata": {},
   "outputs": [
    {
     "name": "stdout",
     "output_type": "stream",
     "text": [
      "Balanced accuracy: 0.53\n",
      "MCC: 0.060148239880048894\n",
      "F1: 0.5300331559873545\n",
      "Confusion matrix: \n",
      "[[39 26]\n",
      " [27 23]]\n",
      "Classification report: \n",
      "              precision    recall  f1-score   support\n",
      "\n",
      "     class 0       0.59      0.60      0.60        65\n",
      "     class 1       0.47      0.46      0.46        50\n",
      "\n",
      "    accuracy                           0.54       115\n",
      "   macro avg       0.53      0.53      0.53       115\n",
      "weighted avg       0.54      0.54      0.54       115\n",
      "\n"
     ]
    }
   ],
   "source": [
    "from sklearn.svm import LinearSVC\n",
    "clf = LinearSVC(max_iter=5000).fit(X_trainScaled, y_train)\n",
    "clf.predict(X_testScaled)\n",
    "\n",
    "metrics()"
   ]
  },
  {
   "cell_type": "code",
   "execution_count": 37,
   "id": "4044125d-341b-4858-9714-cfa85dd778ba",
   "metadata": {},
   "outputs": [
    {
     "name": "stdout",
     "output_type": "stream",
     "text": [
      "Balanced accuracy: 0.5176923076923077\n",
      "MCC: 0.043852900965351466\n",
      "F1: 0.4882645493412443\n",
      "Confusion matrix: \n",
      "[[53 12]\n",
      " [39 11]]\n",
      "Classification report: \n",
      "              precision    recall  f1-score   support\n",
      "\n",
      "     class 0       0.58      0.82      0.68        65\n",
      "     class 1       0.48      0.22      0.30        50\n",
      "\n",
      "    accuracy                           0.56       115\n",
      "   macro avg       0.53      0.52      0.49       115\n",
      "weighted avg       0.53      0.56      0.51       115\n",
      "\n"
     ]
    }
   ],
   "source": [
    "clf = RandomForestClassifier().fit(X_trainScaled, y_train)\n",
    "clf.predict(X_testScaled)\n",
    "\n",
    "metrics()"
   ]
  },
  {
   "cell_type": "code",
   "execution_count": 38,
   "id": "62263faa-bb74-4e8e-bef9-3dabee637084",
   "metadata": {},
   "outputs": [
    {
     "name": "stdout",
     "output_type": "stream",
     "text": [
      "Balanced accuracy: 0.5353846153846153\n",
      "MCC: 0.08770580193070293\n",
      "F1: 0.5083326062298229\n",
      "Confusion matrix: \n",
      "[[54 11]\n",
      " [38 12]]\n",
      "Classification report: \n",
      "              precision    recall  f1-score   support\n",
      "\n",
      "     class 0       0.59      0.83      0.69        65\n",
      "     class 1       0.52      0.24      0.33        50\n",
      "\n",
      "    accuracy                           0.57       115\n",
      "   macro avg       0.55      0.54      0.51       115\n",
      "weighted avg       0.56      0.57      0.53       115\n",
      "\n"
     ]
    }
   ],
   "source": [
    "clf = RandomForestClassifier(n_estimators=5000, criterion=\"gini\", bootstrap=True, oob_score=False, warm_start=False, random_state=42).fit(X_trainScaled, y_train)\n",
    "clf.predict(X_testScaled)\n",
    "\n",
    "metrics()"
   ]
  },
  {
   "cell_type": "code",
   "execution_count": 39,
   "id": "7151edf7-c65c-42d8-bd49-dad8486e1642",
   "metadata": {},
   "outputs": [
    {
     "name": "stdout",
     "output_type": "stream",
     "text": [
      "Balanced accuracy: 0.49846153846153846\n",
      "MCC: -0.00466480629823166\n",
      "F1: 0.43712349397590355\n",
      "Confusion matrix: \n",
      "[[57  8]\n",
      " [44  6]]\n",
      "Classification report: \n",
      "              precision    recall  f1-score   support\n",
      "\n",
      "     class 0       0.56      0.88      0.69        65\n",
      "     class 1       0.43      0.12      0.19        50\n",
      "\n",
      "    accuracy                           0.55       115\n",
      "   macro avg       0.50      0.50      0.44       115\n",
      "weighted avg       0.51      0.55      0.47       115\n",
      "\n"
     ]
    }
   ],
   "source": [
    "from sklearn.ensemble import ExtraTreesClassifier\n",
    "clf = ExtraTreesClassifier(n_estimators=1000, bootstrap=True, oob_score=True, random_state=42).fit(X_trainScaled, y_train)\n",
    "clf.predict(X_testScaled)\n",
    "\n",
    "metrics()"
   ]
  },
  {
   "cell_type": "code",
   "execution_count": 40,
   "id": "9226d942-adde-48b9-a1e1-c7be8c6ce678",
   "metadata": {},
   "outputs": [
    {
     "name": "stdout",
     "output_type": "stream",
     "text": [
      "Balanced accuracy: 0.4276923076923077\n",
      "MCC: -0.1534645301458955\n",
      "F1: 0.41765131420303836\n",
      "Confusion matrix: \n",
      "[[40 25]\n",
      " [38 12]]\n",
      "Classification report: \n",
      "              precision    recall  f1-score   support\n",
      "\n",
      "     class 0       0.51      0.62      0.56        65\n",
      "     class 1       0.32      0.24      0.28        50\n",
      "\n",
      "    accuracy                           0.45       115\n",
      "   macro avg       0.42      0.43      0.42       115\n",
      "weighted avg       0.43      0.45      0.44       115\n",
      "\n"
     ]
    }
   ],
   "source": [
    "neigh = KNeighborsClassifier(n_neighbors=3)\n",
    "clf = neigh.fit(X_trainScaled, y_train)\n",
    "clf.predict(X_testScaled)\n",
    "\n",
    "metrics()"
   ]
  },
  {
   "cell_type": "code",
   "execution_count": 41,
   "id": "2553018d-5c66-4e5b-a44e-c82cc3f132d7",
   "metadata": {},
   "outputs": [
    {
     "name": "stdout",
     "output_type": "stream",
     "text": [
      "Balanced accuracy: 0.56\n",
      "MCC: 0.11952286093343936\n",
      "F1: 0.5595894607843137\n",
      "Confusion matrix: \n",
      "[[39 26]\n",
      " [24 26]]\n",
      "Classification report: \n",
      "              precision    recall  f1-score   support\n",
      "\n",
      "     class 0       0.62      0.60      0.61        65\n",
      "     class 1       0.50      0.52      0.51        50\n",
      "\n",
      "    accuracy                           0.57       115\n",
      "   macro avg       0.56      0.56      0.56       115\n",
      "weighted avg       0.57      0.57      0.57       115\n",
      "\n"
     ]
    }
   ],
   "source": [
    "# lbfgs, sgd, adam\n",
    "#logistic, tanh, relu\n",
    "from sklearn.neural_network import MLPClassifier\n",
    "clf = MLPClassifier(solver=\"adam\", activation=\"relu\", learning_rate=\"constant\", random_state=42, max_iter=3000, verbose=False).fit(X_trainScaled, y_train)\n",
    "#clf.out_activation_=\"softmax\"\n",
    "clf.predict(X_testScaled)\n",
    "\n",
    "metrics()"
   ]
  },
  {
   "cell_type": "code",
   "execution_count": 42,
   "id": "3455fe44-efdc-4623-9409-7042c94b3a98",
   "metadata": {},
   "outputs": [
    {
     "name": "stdout",
     "output_type": "stream",
     "text": [
      "Balanced accuracy: 0.5107692307692308\n",
      "MCC: 0.022417941532712198\n",
      "F1: 0.5071428571428571\n",
      "Confusion matrix: \n",
      "[[43 22]\n",
      " [32 18]]\n",
      "Classification report: \n",
      "              precision    recall  f1-score   support\n",
      "\n",
      "     class 0       0.57      0.66      0.61        65\n",
      "     class 1       0.45      0.36      0.40        50\n",
      "\n",
      "    accuracy                           0.53       115\n",
      "   macro avg       0.51      0.51      0.51       115\n",
      "weighted avg       0.52      0.53      0.52       115\n",
      "\n"
     ]
    }
   ],
   "source": [
    "from sklearn.ensemble import AdaBoostClassifier\n",
    "clf = AdaBoostClassifier(n_estimators=50, random_state=42).fit(X_trainScaled, y_train)\n",
    "clf.predict(X_testScaled)\n",
    "\n",
    "metrics()\n",
    "#complete_output()"
   ]
  },
  {
   "cell_type": "code",
   "execution_count": 43,
   "id": "b3059262-cdb8-4999-9946-ffd322f1d117",
   "metadata": {},
   "outputs": [
    {
     "name": "stdout",
     "output_type": "stream",
     "text": [
      "Balanced accuracy: 0.5384615384615385\n",
      "MCC: 0.07961420082226106\n",
      "F1: 0.5363269823701479\n",
      "Confusion matrix: \n",
      "[[44 21]\n",
      " [30 20]]\n",
      "Classification report: \n",
      "              precision    recall  f1-score   support\n",
      "\n",
      "     class 0       0.59      0.68      0.63        65\n",
      "     class 1       0.49      0.40      0.44        50\n",
      "\n",
      "    accuracy                           0.56       115\n",
      "   macro avg       0.54      0.54      0.54       115\n",
      "weighted avg       0.55      0.56      0.55       115\n",
      "\n"
     ]
    }
   ],
   "source": [
    "from sklearn.ensemble import HistGradientBoostingClassifier\n",
    "clf = HistGradientBoostingClassifier().fit(X_trainScaled, y_train)\n",
    "clf.predict(X_testScaled)\n",
    "\n",
    "metrics()\n",
    "#complete_output()"
   ]
  },
  {
   "cell_type": "code",
   "execution_count": 44,
   "id": "d127584a-aabd-461e-928e-5d75f3666971",
   "metadata": {},
   "outputs": [
    {
     "name": "stdout",
     "output_type": "stream",
     "text": [
      "Balanced accuracy: 0.5615384615384615\n",
      "MCC: 0.12971229696206416\n",
      "F1: 0.558258642765685\n",
      "Confusion matrix: \n",
      "[[47 18]\n",
      " [30 20]]\n",
      "Classification report: \n",
      "              precision    recall  f1-score   support\n",
      "\n",
      "     class 0       0.61      0.72      0.66        65\n",
      "     class 1       0.53      0.40      0.45        50\n",
      "\n",
      "    accuracy                           0.58       115\n",
      "   macro avg       0.57      0.56      0.56       115\n",
      "weighted avg       0.57      0.58      0.57       115\n",
      "\n"
     ]
    }
   ],
   "source": [
    "from sklearn.ensemble import GradientBoostingClassifier\n",
    "clf = GradientBoostingClassifier(n_estimators=1000, learning_rate=1.0, max_depth=None, random_state=42).fit(X_trainScaled, y_train)\n",
    "clf.predict(X_testScaled)\n",
    "\n",
    "metrics()"
   ]
  },
  {
   "cell_type": "code",
   "execution_count": 45,
   "id": "f46de34e-3208-4aad-818f-0597508f2b2b",
   "metadata": {},
   "outputs": [
    {
     "name": "stdout",
     "output_type": "stream",
     "text": [
      "Balanced accuracy: 0.5192307692307693\n",
      "MCC: 0.04254556517250661\n",
      "F1: 0.507251153592617\n",
      "Confusion matrix: \n",
      "[[48 17]\n",
      " [35 15]]\n",
      "Classification report: \n",
      "              precision    recall  f1-score   support\n",
      "\n",
      "     class 0       0.58      0.74      0.65        65\n",
      "     class 1       0.47      0.30      0.37        50\n",
      "\n",
      "    accuracy                           0.55       115\n",
      "   macro avg       0.52      0.52      0.51       115\n",
      "weighted avg       0.53      0.55      0.53       115\n",
      "\n"
     ]
    }
   ],
   "source": [
    "from xgboost import XGBClassifier\n",
    "clf = XGBClassifier(max_depth=10, eta=0.3, reg_lambda=50, alpha=0).fit(X_trainScaled, y_train)\n",
    "clf.predict(X_testScaled)\n",
    "\n",
    "metrics()"
   ]
  },
  {
   "cell_type": "code",
   "execution_count": 46,
   "id": "9c42d3b4-4864-4bf8-bd7b-dcfc8a76cdb1",
   "metadata": {},
   "outputs": [
    {
     "name": "stdout",
     "output_type": "stream",
     "text": [
      "Balanced accuracy: 0.5107692307692308\n",
      "MCC: 0.022417941532712198\n",
      "F1: 0.5071428571428571\n",
      "Confusion matrix: \n",
      "[[43 22]\n",
      " [32 18]]\n",
      "Classification report: \n",
      "              precision    recall  f1-score   support\n",
      "\n",
      "     class 0       0.57      0.66      0.61        65\n",
      "     class 1       0.45      0.36      0.40        50\n",
      "\n",
      "    accuracy                           0.53       115\n",
      "   macro avg       0.51      0.51      0.51       115\n",
      "weighted avg       0.52      0.53      0.52       115\n",
      "\n"
     ]
    }
   ],
   "source": [
    "import lightgbm as lgb\n",
    "from lightgbm import LGBMClassifier\n",
    "clf = LGBMClassifier().fit(X_trainScaled, y_train)\n",
    "clf.predict(X_testScaled)\n",
    "\n",
    "metrics()"
   ]
  },
  {
   "cell_type": "markdown",
   "id": "a6aa13e6-964d-4335-a0cf-023b832bd89c",
   "metadata": {
    "tags": []
   },
   "source": [
    "# Training and predicting on the left eye"
   ]
  },
  {
   "cell_type": "code",
   "execution_count": 47,
   "id": "ca8d7be4-7847-4c8e-99c4-1e67ea240160",
   "metadata": {
    "tags": []
   },
   "outputs": [],
   "source": [
    "#df2.iloc[: ,1]"
   ]
  },
  {
   "cell_type": "code",
   "execution_count": 48,
   "id": "ee25ea65-ca90-4a15-ad9e-a93048411734",
   "metadata": {
    "tags": []
   },
   "outputs": [],
   "source": [
    "X_OS = df2.iloc[:,2:]\n"
   ]
  },
  {
   "cell_type": "code",
   "execution_count": 49,
   "id": "ee4ac07e-91da-466a-8790-9c906086add8",
   "metadata": {},
   "outputs": [],
   "source": [
    "#df2.iloc[:,1]"
   ]
  },
  {
   "cell_type": "code",
   "execution_count": 50,
   "id": "b102f16c-01ee-45d3-8eab-d349c22dac2b",
   "metadata": {},
   "outputs": [],
   "source": [
    "y_OS = df2.iloc[:,1]"
   ]
  },
  {
   "cell_type": "code",
   "execution_count": 51,
   "id": "0ce37f95-2d32-4739-b125-c5fe0a9bf0c5",
   "metadata": {},
   "outputs": [],
   "source": [
    "#y_train for class 2\n",
    "y_Class2OS = y_OS.replace(2, 0)\n",
    "y_Class2OS = y_Class2OS.replace(3, 0)\n",
    "y_Class2OS = y_Class2OS.replace(4, 0)"
   ]
  },
  {
   "cell_type": "code",
   "execution_count": 52,
   "id": "ec15be18-587a-41be-adcf-04b16f06b617",
   "metadata": {},
   "outputs": [
    {
     "data": {
      "text/plain": [
       "0.0    538\n",
       "1.0     35\n",
       "Name: MeiboOSinf-0, dtype: int64"
      ]
     },
     "execution_count": 52,
     "metadata": {},
     "output_type": "execute_result"
    }
   ],
   "source": [
    "y_Class2OS.value_counts()"
   ]
  },
  {
   "cell_type": "code",
   "execution_count": 53,
   "id": "e2cc3b12-5de4-450a-a4e2-ee83854773ba",
   "metadata": {
    "tags": []
   },
   "outputs": [],
   "source": [
    "X_trainOS, X_testOS, y_trainOS, y_testOS = train_test_split(X_OS, y_Class2OS, test_size = 0.2, random_state=42)\n"
   ]
  },
  {
   "cell_type": "code",
   "execution_count": 54,
   "id": "02b247a1-de6f-4786-8e73-99402f20c915",
   "metadata": {},
   "outputs": [],
   "source": [
    "scaler = StandardScaler()\n",
    "X_trainScaledOS = scaler.fit_transform(X_trainOS)\n",
    "X_testScaledOS = scaler.transform(X_testOS)\n",
    "X_trainScaledOS = pd.DataFrame(X_trainScaledOS, columns = X_trainOS.columns.tolist(), index=X_trainOS.index)\n",
    "X_testScaledOS = pd.DataFrame(X_testScaledOS, columns = X_testOS.columns.tolist(), index=X_testOS.index)"
   ]
  },
  {
   "cell_type": "code",
   "execution_count": 55,
   "id": "31b499c9-134a-489e-a590-8f6faf9e14dc",
   "metadata": {},
   "outputs": [
    {
     "data": {
      "text/plain": [
       "pandas.core.frame.DataFrame"
      ]
     },
     "execution_count": 55,
     "metadata": {},
     "output_type": "execute_result"
    }
   ],
   "source": [
    "type(X_trainScaledOS)\n",
    "type(X_testScaledOS)"
   ]
  },
  {
   "cell_type": "code",
   "execution_count": 56,
   "id": "7b8e8546-f2f7-48bf-babc-b892aeb94b03",
   "metadata": {},
   "outputs": [
    {
     "name": "stdout",
     "output_type": "stream",
     "text": [
      "(458, 90)\n",
      "(115, 90)\n",
      "(458,)\n",
      "(115,)\n"
     ]
    }
   ],
   "source": [
    "print(X_trainScaledOS.shape)\n",
    "print(X_testScaledOS.shape)\n",
    "print(y_trainOS.shape)\n",
    "print(y_testOS.shape)"
   ]
  },
  {
   "cell_type": "code",
   "execution_count": 57,
   "id": "4b9f4df0-d7bd-4c0d-a706-3d3b4e3b7982",
   "metadata": {},
   "outputs": [],
   "source": [
    "#X_trainScaledOS"
   ]
  },
  {
   "cell_type": "code",
   "execution_count": 58,
   "id": "49197f18-0c9d-4d68-9d48-6d049fcb7c55",
   "metadata": {},
   "outputs": [],
   "source": [
    "def metricsOS():\n",
    "    y_predOS = clf.predict(X_testScaledOS)\n",
    "    bal_acc = balanced_accuracy_score(y_testOS, y_predOS)\n",
    "    mcc = matthews_corrcoef(y_testOS, y_predOS)\n",
    "    f1 = f1_score(y_testOS, y_predOS, average=\"macro\")\n",
    "    cf = confusion_matrix(y_testOS, y_predOS)\n",
    "    target_names = ['class 0', 'class 1']\n",
    "    print(f\"Balanced accuracy: {bal_acc}\")\n",
    "    print(f\"MCC: {mcc}\")\n",
    "    print(f\"F1: {f1}\")\n",
    "    print(f\"Confusion matrix: \\n{cf}\")\n",
    "    print(f\"Classification report: \\n{classification_report(y_testOS, y_predOS, target_names=target_names)}\")"
   ]
  },
  {
   "cell_type": "code",
   "execution_count": 59,
   "id": "d7934feb-582e-4abe-a3fe-1984cf9ee7ea",
   "metadata": {
    "tags": []
   },
   "outputs": [
    {
     "name": "stdout",
     "output_type": "stream",
     "text": [
      "Balanced accuracy: 0.5\n",
      "MCC: 0.0\n",
      "F1: 0.48198198198198194\n",
      "Confusion matrix: \n",
      "[[107   0]\n",
      " [  8   0]]\n",
      "Classification report: \n",
      "              precision    recall  f1-score   support\n",
      "\n",
      "     class 0       0.93      1.00      0.96       107\n",
      "     class 1       0.00      0.00      0.00         8\n",
      "\n",
      "    accuracy                           0.93       115\n",
      "   macro avg       0.47      0.50      0.48       115\n",
      "weighted avg       0.87      0.93      0.90       115\n",
      "\n"
     ]
    },
    {
     "name": "stderr",
     "output_type": "stream",
     "text": [
      "C:\\Users\\fre_f\\anaconda3\\envs\\FF\\lib\\site-packages\\sklearn\\metrics\\_classification.py:1334: UndefinedMetricWarning: Precision and F-score are ill-defined and being set to 0.0 in labels with no predicted samples. Use `zero_division` parameter to control this behavior.\n",
      "  _warn_prf(average, modifier, msg_start, len(result))\n",
      "C:\\Users\\fre_f\\anaconda3\\envs\\FF\\lib\\site-packages\\sklearn\\metrics\\_classification.py:1334: UndefinedMetricWarning: Precision and F-score are ill-defined and being set to 0.0 in labels with no predicted samples. Use `zero_division` parameter to control this behavior.\n",
      "  _warn_prf(average, modifier, msg_start, len(result))\n",
      "C:\\Users\\fre_f\\anaconda3\\envs\\FF\\lib\\site-packages\\sklearn\\metrics\\_classification.py:1334: UndefinedMetricWarning: Precision and F-score are ill-defined and being set to 0.0 in labels with no predicted samples. Use `zero_division` parameter to control this behavior.\n",
      "  _warn_prf(average, modifier, msg_start, len(result))\n"
     ]
    }
   ],
   "source": [
    "from sklearn.dummy import DummyClassifier\n",
    "clf = DummyClassifier(strategy=\"most_frequent\")\n",
    "clf.fit(X_trainScaledOS, y_trainOS)\n",
    "clf.predict(X_testScaledOS)\n",
    "\n",
    "metricsOS()"
   ]
  },
  {
   "cell_type": "code",
   "execution_count": 60,
   "id": "3cbf5219-7fea-4c90-b0b6-0fda5bdca7ef",
   "metadata": {},
   "outputs": [
    {
     "name": "stdout",
     "output_type": "stream",
     "text": [
      "Balanced accuracy: 0.6314252336448598\n",
      "MCC: 0.19856376833012096\n",
      "F1: 0.5893719806763285\n",
      "Confusion matrix: \n",
      "[[95 12]\n",
      " [ 5  3]]\n",
      "Classification report: \n",
      "              precision    recall  f1-score   support\n",
      "\n",
      "     class 0       0.95      0.89      0.92       107\n",
      "     class 1       0.20      0.38      0.26         8\n",
      "\n",
      "    accuracy                           0.85       115\n",
      "   macro avg       0.57      0.63      0.59       115\n",
      "weighted avg       0.90      0.85      0.87       115\n",
      "\n"
     ]
    }
   ],
   "source": [
    "from sklearn.svm import LinearSVC\n",
    "clf = LinearSVC(max_iter=5000).fit(X_trainScaledOS, y_trainOS)\n",
    "clf.predict(X_testScaledOS)\n",
    "\n",
    "metricsOS()"
   ]
  },
  {
   "cell_type": "code",
   "execution_count": 61,
   "id": "ec90ba6a-e840-40d6-b6d0-5f0369e312db",
   "metadata": {},
   "outputs": [
    {
     "name": "stdout",
     "output_type": "stream",
     "text": [
      "Balanced accuracy: 0.5\n",
      "MCC: 0.0\n",
      "F1: 0.48198198198198194\n",
      "Confusion matrix: \n",
      "[[107   0]\n",
      " [  8   0]]\n",
      "Classification report: \n",
      "              precision    recall  f1-score   support\n",
      "\n",
      "     class 0       0.93      1.00      0.96       107\n",
      "     class 1       0.00      0.00      0.00         8\n",
      "\n",
      "    accuracy                           0.93       115\n",
      "   macro avg       0.47      0.50      0.48       115\n",
      "weighted avg       0.87      0.93      0.90       115\n",
      "\n"
     ]
    },
    {
     "name": "stderr",
     "output_type": "stream",
     "text": [
      "C:\\Users\\fre_f\\anaconda3\\envs\\FF\\lib\\site-packages\\sklearn\\metrics\\_classification.py:1334: UndefinedMetricWarning: Precision and F-score are ill-defined and being set to 0.0 in labels with no predicted samples. Use `zero_division` parameter to control this behavior.\n",
      "  _warn_prf(average, modifier, msg_start, len(result))\n",
      "C:\\Users\\fre_f\\anaconda3\\envs\\FF\\lib\\site-packages\\sklearn\\metrics\\_classification.py:1334: UndefinedMetricWarning: Precision and F-score are ill-defined and being set to 0.0 in labels with no predicted samples. Use `zero_division` parameter to control this behavior.\n",
      "  _warn_prf(average, modifier, msg_start, len(result))\n",
      "C:\\Users\\fre_f\\anaconda3\\envs\\FF\\lib\\site-packages\\sklearn\\metrics\\_classification.py:1334: UndefinedMetricWarning: Precision and F-score are ill-defined and being set to 0.0 in labels with no predicted samples. Use `zero_division` parameter to control this behavior.\n",
      "  _warn_prf(average, modifier, msg_start, len(result))\n"
     ]
    }
   ],
   "source": [
    "clf = RandomForestClassifier().fit(X_trainScaledOS, y_trainOS)\n",
    "clf.predict(X_testScaledOS)\n",
    "\n",
    "metricsOS()"
   ]
  },
  {
   "cell_type": "code",
   "execution_count": 62,
   "id": "2a7dfcb8-02fb-44e7-996b-a251aa6d0d53",
   "metadata": {},
   "outputs": [
    {
     "name": "stdout",
     "output_type": "stream",
     "text": [
      "Balanced accuracy: 0.5\n",
      "MCC: 0.0\n",
      "F1: 0.48198198198198194\n",
      "Confusion matrix: \n",
      "[[107   0]\n",
      " [  8   0]]\n",
      "Classification report: \n",
      "              precision    recall  f1-score   support\n",
      "\n",
      "     class 0       0.93      1.00      0.96       107\n",
      "     class 1       0.00      0.00      0.00         8\n",
      "\n",
      "    accuracy                           0.93       115\n",
      "   macro avg       0.47      0.50      0.48       115\n",
      "weighted avg       0.87      0.93      0.90       115\n",
      "\n"
     ]
    },
    {
     "name": "stderr",
     "output_type": "stream",
     "text": [
      "C:\\Users\\fre_f\\anaconda3\\envs\\FF\\lib\\site-packages\\sklearn\\metrics\\_classification.py:1334: UndefinedMetricWarning: Precision and F-score are ill-defined and being set to 0.0 in labels with no predicted samples. Use `zero_division` parameter to control this behavior.\n",
      "  _warn_prf(average, modifier, msg_start, len(result))\n",
      "C:\\Users\\fre_f\\anaconda3\\envs\\FF\\lib\\site-packages\\sklearn\\metrics\\_classification.py:1334: UndefinedMetricWarning: Precision and F-score are ill-defined and being set to 0.0 in labels with no predicted samples. Use `zero_division` parameter to control this behavior.\n",
      "  _warn_prf(average, modifier, msg_start, len(result))\n",
      "C:\\Users\\fre_f\\anaconda3\\envs\\FF\\lib\\site-packages\\sklearn\\metrics\\_classification.py:1334: UndefinedMetricWarning: Precision and F-score are ill-defined and being set to 0.0 in labels with no predicted samples. Use `zero_division` parameter to control this behavior.\n",
      "  _warn_prf(average, modifier, msg_start, len(result))\n"
     ]
    }
   ],
   "source": [
    "clf = RandomForestClassifier(n_estimators=5000, criterion=\"gini\", bootstrap=True, oob_score=False, warm_start=True, random_state=42).fit(X_trainScaledOS, y_trainOS)\n",
    "clf.predict(X_testScaledOS)\n",
    "\n",
    "metricsOS()"
   ]
  },
  {
   "cell_type": "code",
   "execution_count": 63,
   "id": "a81131b3-106b-4c21-a8f3-4376f40ebc52",
   "metadata": {},
   "outputs": [
    {
     "name": "stdout",
     "output_type": "stream",
     "text": [
      "Balanced accuracy: 0.49065420560747663\n",
      "MCC: -0.03637716757892587\n",
      "F1: 0.47727272727272724\n",
      "Confusion matrix: \n",
      "[[105   2]\n",
      " [  8   0]]\n",
      "Classification report: \n",
      "              precision    recall  f1-score   support\n",
      "\n",
      "     class 0       0.93      0.98      0.95       107\n",
      "     class 1       0.00      0.00      0.00         8\n",
      "\n",
      "    accuracy                           0.91       115\n",
      "   macro avg       0.46      0.49      0.48       115\n",
      "weighted avg       0.86      0.91      0.89       115\n",
      "\n"
     ]
    }
   ],
   "source": [
    "neigh = KNeighborsClassifier(n_neighbors=3)\n",
    "clf = neigh.fit(X_trainScaledOS, y_trainOS)\n",
    "clf.predict(X_testScaledOS)\n",
    "\n",
    "metricsOS()"
   ]
  },
  {
   "cell_type": "code",
   "execution_count": 64,
   "id": "4beece43-533e-4884-be9a-0ea89fa6d520",
   "metadata": {},
   "outputs": [
    {
     "name": "stdout",
     "output_type": "stream",
     "text": [
      "Balanced accuracy: 0.5\n",
      "MCC: 0.0\n",
      "F1: 0.06504065040650406\n",
      "Confusion matrix: \n",
      "[[  0 107]\n",
      " [  0   8]]\n",
      "Classification report: \n",
      "              precision    recall  f1-score   support\n",
      "\n",
      "     class 0       0.00      0.00      0.00       107\n",
      "     class 1       0.07      1.00      0.13         8\n",
      "\n",
      "    accuracy                           0.07       115\n",
      "   macro avg       0.03      0.50      0.07       115\n",
      "weighted avg       0.00      0.07      0.01       115\n",
      "\n"
     ]
    },
    {
     "name": "stderr",
     "output_type": "stream",
     "text": [
      "C:\\Users\\fre_f\\anaconda3\\envs\\FF\\lib\\site-packages\\sklearn\\metrics\\_classification.py:1334: UndefinedMetricWarning: Precision and F-score are ill-defined and being set to 0.0 in labels with no predicted samples. Use `zero_division` parameter to control this behavior.\n",
      "  _warn_prf(average, modifier, msg_start, len(result))\n",
      "C:\\Users\\fre_f\\anaconda3\\envs\\FF\\lib\\site-packages\\sklearn\\metrics\\_classification.py:1334: UndefinedMetricWarning: Precision and F-score are ill-defined and being set to 0.0 in labels with no predicted samples. Use `zero_division` parameter to control this behavior.\n",
      "  _warn_prf(average, modifier, msg_start, len(result))\n",
      "C:\\Users\\fre_f\\anaconda3\\envs\\FF\\lib\\site-packages\\sklearn\\metrics\\_classification.py:1334: UndefinedMetricWarning: Precision and F-score are ill-defined and being set to 0.0 in labels with no predicted samples. Use `zero_division` parameter to control this behavior.\n",
      "  _warn_prf(average, modifier, msg_start, len(result))\n"
     ]
    }
   ],
   "source": [
    "# lbfgs, sgd, adam\n",
    "#logistic, tanh, relu\n",
    "from sklearn.neural_network import MLPClassifier\n",
    "clf = MLPClassifier(solver=\"adam\", activation=\"relu\", learning_rate=\"constant\", random_state=42, max_iter=3000, verbose=False).fit(X_trainScaledOS, y_trainOS)\n",
    "clf.out_activation_=\"softmax\"\n",
    "clf.predict(X_testScaledOS)\n",
    "\n",
    "metricsOS()"
   ]
  },
  {
   "cell_type": "code",
   "execution_count": 65,
   "id": "78de34c4-e912-492e-8c0f-ffe3a8e9ceb3",
   "metadata": {},
   "outputs": [
    {
     "name": "stdout",
     "output_type": "stream",
     "text": [
      "Balanced accuracy: 0.6828271028037383\n",
      "MCC: 0.5077102953881362\n",
      "F1: 0.7362385321100917\n",
      "Confusion matrix: \n",
      "[[106   1]\n",
      " [  5   3]]\n",
      "Classification report: \n",
      "              precision    recall  f1-score   support\n",
      "\n",
      "     class 0       0.95      0.99      0.97       107\n",
      "     class 1       0.75      0.38      0.50         8\n",
      "\n",
      "    accuracy                           0.95       115\n",
      "   macro avg       0.85      0.68      0.74       115\n",
      "weighted avg       0.94      0.95      0.94       115\n",
      "\n"
     ]
    }
   ],
   "source": [
    "from sklearn.ensemble import AdaBoostClassifier\n",
    "clf = AdaBoostClassifier(n_estimators=50, random_state=42).fit(X_trainScaledOS, y_trainOS)\n",
    "clf.predict(X_testScaledOS)\n",
    "\n",
    "metricsOS()"
   ]
  },
  {
   "cell_type": "code",
   "execution_count": 66,
   "id": "84b92f69-17c1-4005-8f6c-0eb43b2c0b58",
   "metadata": {},
   "outputs": [
    {
     "name": "stdout",
     "output_type": "stream",
     "text": [
      "Balanced accuracy: 0.5\n",
      "MCC: 0.0\n",
      "F1: 0.48198198198198194\n",
      "Confusion matrix: \n",
      "[[107   0]\n",
      " [  8   0]]\n",
      "Classification report: \n",
      "              precision    recall  f1-score   support\n",
      "\n",
      "     class 0       0.93      1.00      0.96       107\n",
      "     class 1       0.00      0.00      0.00         8\n",
      "\n",
      "    accuracy                           0.93       115\n",
      "   macro avg       0.47      0.50      0.48       115\n",
      "weighted avg       0.87      0.93      0.90       115\n",
      "\n"
     ]
    },
    {
     "name": "stderr",
     "output_type": "stream",
     "text": [
      "C:\\Users\\fre_f\\anaconda3\\envs\\FF\\lib\\site-packages\\sklearn\\metrics\\_classification.py:1334: UndefinedMetricWarning: Precision and F-score are ill-defined and being set to 0.0 in labels with no predicted samples. Use `zero_division` parameter to control this behavior.\n",
      "  _warn_prf(average, modifier, msg_start, len(result))\n",
      "C:\\Users\\fre_f\\anaconda3\\envs\\FF\\lib\\site-packages\\sklearn\\metrics\\_classification.py:1334: UndefinedMetricWarning: Precision and F-score are ill-defined and being set to 0.0 in labels with no predicted samples. Use `zero_division` parameter to control this behavior.\n",
      "  _warn_prf(average, modifier, msg_start, len(result))\n",
      "C:\\Users\\fre_f\\anaconda3\\envs\\FF\\lib\\site-packages\\sklearn\\metrics\\_classification.py:1334: UndefinedMetricWarning: Precision and F-score are ill-defined and being set to 0.0 in labels with no predicted samples. Use `zero_division` parameter to control this behavior.\n",
      "  _warn_prf(average, modifier, msg_start, len(result))\n"
     ]
    }
   ],
   "source": [
    "from sklearn.ensemble import HistGradientBoostingClassifier\n",
    "clf = HistGradientBoostingClassifier().fit(X_trainScaledOS, y_trainOS)\n",
    "clf.predict(X_testScaledOS)\n",
    "\n",
    "metricsOS()"
   ]
  },
  {
   "cell_type": "code",
   "execution_count": 67,
   "id": "9f368ae8-2358-44bb-bd88-19b311265dff",
   "metadata": {},
   "outputs": [
    {
     "name": "stdout",
     "output_type": "stream",
     "text": [
      "Balanced accuracy: 0.5391355140186915\n",
      "MCC: 0.08954658875326628\n",
      "F1: 0.5436507936507937\n",
      "Confusion matrix: \n",
      "[[102   5]\n",
      " [  7   1]]\n",
      "Classification report: \n",
      "              precision    recall  f1-score   support\n",
      "\n",
      "     class 0       0.94      0.95      0.94       107\n",
      "     class 1       0.17      0.12      0.14         8\n",
      "\n",
      "    accuracy                           0.90       115\n",
      "   macro avg       0.55      0.54      0.54       115\n",
      "weighted avg       0.88      0.90      0.89       115\n",
      "\n"
     ]
    }
   ],
   "source": [
    "from sklearn.ensemble import GradientBoostingClassifier\n",
    "clf = GradientBoostingClassifier(n_estimators=1000, learning_rate=0.5, max_depth=None, random_state=42).fit(X_trainScaledOS, y_trainOS)\n",
    "clf.predict(X_testScaledOS)\n",
    "\n",
    "metricsOS()"
   ]
  },
  {
   "cell_type": "code",
   "execution_count": 68,
   "id": "8744aa32-e893-4d8b-b85f-c09ddd457c45",
   "metadata": {},
   "outputs": [
    {
     "name": "stdout",
     "output_type": "stream",
     "text": [
      "Balanced accuracy: 0.5\n",
      "MCC: 0.0\n",
      "F1: 0.48198198198198194\n",
      "Confusion matrix: \n",
      "[[107   0]\n",
      " [  8   0]]\n",
      "Classification report: \n",
      "              precision    recall  f1-score   support\n",
      "\n",
      "     class 0       0.93      1.00      0.96       107\n",
      "     class 1       0.00      0.00      0.00         8\n",
      "\n",
      "    accuracy                           0.93       115\n",
      "   macro avg       0.47      0.50      0.48       115\n",
      "weighted avg       0.87      0.93      0.90       115\n",
      "\n"
     ]
    },
    {
     "name": "stderr",
     "output_type": "stream",
     "text": [
      "C:\\Users\\fre_f\\anaconda3\\envs\\FF\\lib\\site-packages\\sklearn\\metrics\\_classification.py:1334: UndefinedMetricWarning: Precision and F-score are ill-defined and being set to 0.0 in labels with no predicted samples. Use `zero_division` parameter to control this behavior.\n",
      "  _warn_prf(average, modifier, msg_start, len(result))\n",
      "C:\\Users\\fre_f\\anaconda3\\envs\\FF\\lib\\site-packages\\sklearn\\metrics\\_classification.py:1334: UndefinedMetricWarning: Precision and F-score are ill-defined and being set to 0.0 in labels with no predicted samples. Use `zero_division` parameter to control this behavior.\n",
      "  _warn_prf(average, modifier, msg_start, len(result))\n",
      "C:\\Users\\fre_f\\anaconda3\\envs\\FF\\lib\\site-packages\\sklearn\\metrics\\_classification.py:1334: UndefinedMetricWarning: Precision and F-score are ill-defined and being set to 0.0 in labels with no predicted samples. Use `zero_division` parameter to control this behavior.\n",
      "  _warn_prf(average, modifier, msg_start, len(result))\n"
     ]
    }
   ],
   "source": [
    "from xgboost import XGBClassifier\n",
    "clf = XGBClassifier(max_depth=10, eta=0.3, reg_lambda=50, alpha=0).fit(X_trainScaledOS, y_trainOS)\n",
    "clf.predict(X_testScaledOS)\n",
    "\n",
    "metricsOS()"
   ]
  },
  {
   "cell_type": "code",
   "execution_count": 69,
   "id": "082afe70-1b11-40ea-98d9-8989a4db1264",
   "metadata": {},
   "outputs": [
    {
     "name": "stdout",
     "output_type": "stream",
     "text": [
      "Balanced accuracy: 0.6203271028037383\n",
      "MCC: 0.3841144978851179\n",
      "F1: 0.6658364466583644\n",
      "Confusion matrix: \n",
      "[[106   1]\n",
      " [  6   2]]\n",
      "Classification report: \n",
      "              precision    recall  f1-score   support\n",
      "\n",
      "     class 0       0.95      0.99      0.97       107\n",
      "     class 1       0.67      0.25      0.36         8\n",
      "\n",
      "    accuracy                           0.94       115\n",
      "   macro avg       0.81      0.62      0.67       115\n",
      "weighted avg       0.93      0.94      0.93       115\n",
      "\n"
     ]
    }
   ],
   "source": [
    "import lightgbm as lgb\n",
    "from lightgbm import LGBMClassifier\n",
    "clf = LGBMClassifier().fit(X_trainScaledOS, y_trainOS)\n",
    "clf.predict(X_testScaled)\n",
    "\n",
    "metricsOS()"
   ]
  }
 ],
 "metadata": {
  "kernelspec": {
   "display_name": "Python 3 (ipykernel)",
   "language": "python",
   "name": "python3"
  },
  "language_info": {
   "codemirror_mode": {
    "name": "ipython",
    "version": 3
   },
   "file_extension": ".py",
   "mimetype": "text/x-python",
   "name": "python",
   "nbconvert_exporter": "python",
   "pygments_lexer": "ipython3",
   "version": "3.9.15"
  }
 },
 "nbformat": 4,
 "nbformat_minor": 5
}
