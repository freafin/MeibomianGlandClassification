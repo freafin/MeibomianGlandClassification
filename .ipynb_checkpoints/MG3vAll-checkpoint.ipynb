{
 "cells": [
  {
   "cell_type": "markdown",
   "id": "190791d0-33a6-40e6-be67-90dd92d31be0",
   "metadata": {
    "tags": []
   },
   "source": [
    "# Preprocessing"
   ]
  },
  {
   "cell_type": "code",
   "execution_count": 1,
   "id": "1f2b55a0-7ee0-4eb7-9d98-e2850de0b16e",
   "metadata": {},
   "outputs": [],
   "source": [
    "import pandas as pd\n",
    "import numpy as np\n",
    "from sklearn.impute import SimpleImputer\n",
    "from sklearn.impute import KNNImputer\n",
    "from sklearn.experimental import enable_iterative_imputer\n",
    "from sklearn.impute import IterativeImputer\n",
    "from sklearn.ensemble import RandomForestClassifier\n",
    "from sklearn.neighbors import KNeighborsClassifier\n",
    "from sklearn.model_selection import train_test_split\n",
    "from sklearn import metrics\n",
    "from sklearn.metrics import balanced_accuracy_score\n",
    "from sklearn.metrics import matthews_corrcoef\n",
    "from sklearn.metrics import f1_score\n",
    "from sklearn.metrics import confusion_matrix\n",
    "from sklearn.metrics import classification_report\n",
    "import matplotlib.pyplot as plt\n",
    "import seaborn as sns"
   ]
  },
  {
   "cell_type": "code",
   "execution_count": 2,
   "id": "0e618ce9-932f-4b81-821b-7a8bdb6b85c6",
   "metadata": {},
   "outputs": [],
   "source": [
    "df1 = pd.read_csv(\"c:/BLclinicalremoved.csv\", index_col = \"ID\", encoding=\"ansi\")\n",
    "#df1.head()"
   ]
  },
  {
   "cell_type": "code",
   "execution_count": 3,
   "id": "2d367a72-61c2-40f8-868c-015272a170b5",
   "metadata": {
    "tags": []
   },
   "outputs": [
    {
     "data": {
      "text/plain": [
       "MeiboODinf-0       float64\n",
       "MeiboOSinf-0       float64\n",
       "Kjønn M=0          float64\n",
       "Alder              float64\n",
       "Synskorr.kir       float64\n",
       "                    ...   \n",
       "Skjermbruk-0       float64\n",
       "Kontaktlinser-0    float64\n",
       "Mascara-0          float64\n",
       "Eyeliner-0         float64\n",
       "AC-0               float64\n",
       "Length: 92, dtype: object"
      ]
     },
     "execution_count": 3,
     "metadata": {},
     "output_type": "execute_result"
    }
   ],
   "source": [
    "df1.dtypes"
   ]
  },
  {
   "cell_type": "code",
   "execution_count": 4,
   "id": "6c8c7a16-8184-4cc7-9e1f-51b7d6b107dc",
   "metadata": {
    "tags": []
   },
   "outputs": [
    {
     "data": {
      "text/plain": [
       "array(['0', '2', '7', '4', '5', '6', '3', '1', '8', '9', '10', ' ', nan],\n",
       "      dtype=object)"
      ]
     },
     "execution_count": 4,
     "metadata": {},
     "output_type": "execute_result"
    }
   ],
   "source": [
    "df1[\"Vinter\"].unique()\n",
    "df1[\"RensVarme\"].unique()"
   ]
  },
  {
   "cell_type": "code",
   "execution_count": 5,
   "id": "c6e4674c-a56b-42cc-9e5f-b9c64fd30edf",
   "metadata": {},
   "outputs": [],
   "source": [
    "#Remove empty strings\n",
    "df1['Vinter'] = df1['Vinter'].replace(\" \", np.nan)\n",
    "df1['RensVarme'] = df1['RensVarme'].replace(\" \", np.nan)"
   ]
  },
  {
   "cell_type": "code",
   "execution_count": 6,
   "id": "2a5f2b0b-5d2b-4743-b50e-ccadb71ddd80",
   "metadata": {},
   "outputs": [
    {
     "data": {
      "text/plain": [
       "array(['0', '2', '7', '4', '5', '6', '3', '1', '8', '9', '10', nan],\n",
       "      dtype=object)"
      ]
     },
     "execution_count": 6,
     "metadata": {},
     "output_type": "execute_result"
    }
   ],
   "source": [
    "df1[\"Vinter\"].unique()\n",
    "df1[\"RensVarme\"].unique()"
   ]
  },
  {
   "cell_type": "code",
   "execution_count": 7,
   "id": "1cf16c8b-77f2-43d3-a03d-c09db47e06ba",
   "metadata": {},
   "outputs": [],
   "source": [
    "#Convert dtype\n",
    "df1['RensVarme']=df1['RensVarme'].astype('float')\n",
    "df1['Vinter']=df1['Vinter'].astype('float')"
   ]
  },
  {
   "cell_type": "code",
   "execution_count": 8,
   "id": "93993ed7-cf7e-4d33-b806-5980f221a9aa",
   "metadata": {},
   "outputs": [
    {
     "data": {
      "text/plain": [
       "array([ 2.,  4.,  3.,  1., nan,  0.])"
      ]
     },
     "execution_count": 8,
     "metadata": {},
     "output_type": "execute_result"
    }
   ],
   "source": [
    "df1['MeiboODinf-0'].unique()\n"
   ]
  },
  {
   "cell_type": "code",
   "execution_count": 9,
   "id": "2fe83b44-787d-4b14-b10d-6e828d5a6471",
   "metadata": {},
   "outputs": [
    {
     "data": {
      "text/plain": [
       "2.0    215\n",
       "3.0    183\n",
       "4.0    129\n",
       "1.0     44\n",
       "0.0      2\n",
       "Name: MeiboODinf-0, dtype: int64"
      ]
     },
     "execution_count": 9,
     "metadata": {},
     "output_type": "execute_result"
    }
   ],
   "source": [
    "df1[\"MeiboODinf-0\"].value_counts()"
   ]
  },
  {
   "cell_type": "code",
   "execution_count": 10,
   "id": "ecadcb67-660c-4767-be01-ae9ace9676c2",
   "metadata": {},
   "outputs": [],
   "source": [
    "#Implement class 0 in class 1\n",
    "df1['MeiboODinf-0'] = df1['MeiboODinf-0'].replace(0, 1)\n",
    "df1['MeiboOSinf-0'] = df1['MeiboOSinf-0'].replace(0, 1)"
   ]
  },
  {
   "cell_type": "code",
   "execution_count": 11,
   "id": "361a3c69-a939-4f61-a434-543b2daaff13",
   "metadata": {},
   "outputs": [
    {
     "data": {
      "text/plain": [
       "(594, 92)"
      ]
     },
     "execution_count": 11,
     "metadata": {},
     "output_type": "execute_result"
    }
   ],
   "source": [
    "df1.shape"
   ]
  },
  {
   "cell_type": "code",
   "execution_count": 12,
   "id": "9a18b965-24d1-4e14-9d82-dc37fce7e05d",
   "metadata": {},
   "outputs": [],
   "source": [
    "df1 = df1.dropna(axis=0, subset=[\"MeiboODinf-0\"])\n",
    "df1 = df1.dropna(axis=0, subset=[\"MeiboOSinf-0\"])"
   ]
  },
  {
   "cell_type": "code",
   "execution_count": 13,
   "id": "e98d00ac-4051-43bd-8fa0-727e231868fb",
   "metadata": {},
   "outputs": [
    {
     "data": {
      "text/plain": [
       "(573, 92)"
      ]
     },
     "execution_count": 13,
     "metadata": {},
     "output_type": "execute_result"
    }
   ],
   "source": [
    "df1.shape"
   ]
  },
  {
   "cell_type": "code",
   "execution_count": 14,
   "id": "6d744204-d941-4d1d-a4bc-0d14c4e5d111",
   "metadata": {},
   "outputs": [
    {
     "data": {
      "text/plain": [
       "array([2., 4., 3., 1.])"
      ]
     },
     "execution_count": 14,
     "metadata": {},
     "output_type": "execute_result"
    }
   ],
   "source": [
    "df1['MeiboODinf-0'].unique()\n",
    "df1['MeiboOSinf-0'].unique()"
   ]
  },
  {
   "cell_type": "code",
   "execution_count": 15,
   "id": "e1a10992-b416-4b7d-973b-60f9eb1c3191",
   "metadata": {},
   "outputs": [],
   "source": [
    "#df1.iloc[:,2:92]"
   ]
  },
  {
   "cell_type": "code",
   "execution_count": 16,
   "id": "eee4a872-ad65-49ab-a1d7-00908ae86aac",
   "metadata": {},
   "outputs": [],
   "source": [
    "#imp = SimpleImputer(strategy='mean')\n",
    "#imp = IterativeImputer(random_state=42, max_iter=100)\n",
    "imp = KNNImputer(n_neighbors=3, weights=\"uniform\")\n",
    "df_imputed = imp.fit_transform(df1)\n",
    "df2 = pd.DataFrame(df_imputed, columns = df1.columns.tolist(), index = df1.index)\n",
    "#df2"
   ]
  },
  {
   "cell_type": "code",
   "execution_count": 17,
   "id": "fa6adf28-4c8f-4c80-9d44-51912b7f059c",
   "metadata": {},
   "outputs": [],
   "source": [
    "#print(df2)"
   ]
  },
  {
   "cell_type": "code",
   "execution_count": 18,
   "id": "83db03c4-9b3d-477d-a0ec-ee2e303ba04d",
   "metadata": {},
   "outputs": [],
   "source": [
    "#Using Pearson Correlation\n",
    "#plt.figure(figsize=(12,10))\n",
    "#cor = df2.corr()\n",
    "#sns.heatmap(cor, annot=True, cmap=plt.cm.Reds)\n",
    "#plt.show()"
   ]
  },
  {
   "cell_type": "code",
   "execution_count": 19,
   "id": "751a5b9a-0ac1-460b-8188-bd67fdd96f72",
   "metadata": {},
   "outputs": [
    {
     "data": {
      "text/plain": [
       "pandas.core.frame.DataFrame"
      ]
     },
     "execution_count": 19,
     "metadata": {},
     "output_type": "execute_result"
    }
   ],
   "source": [
    "type(df2)"
   ]
  },
  {
   "cell_type": "code",
   "execution_count": 20,
   "id": "2be54edc-52a8-4df5-8013-183f445941e2",
   "metadata": {},
   "outputs": [],
   "source": [
    "#df2.iloc[:,0:47]"
   ]
  },
  {
   "cell_type": "code",
   "execution_count": 21,
   "id": "f9cc8c15-20ad-4573-bd6d-41b69d3c3da8",
   "metadata": {},
   "outputs": [],
   "source": [
    "#df2.iloc[:,0]"
   ]
  },
  {
   "cell_type": "code",
   "execution_count": 22,
   "id": "d7a0ad2e-f8dd-4eef-ae6e-68a9d3042666",
   "metadata": {},
   "outputs": [],
   "source": [
    "#df2.iloc[:,2:] "
   ]
  },
  {
   "cell_type": "code",
   "execution_count": 23,
   "id": "382a82c6-782b-483b-a135-b775440bd493",
   "metadata": {},
   "outputs": [],
   "source": [
    "#plt.hist(df2[47], bins=5)"
   ]
  },
  {
   "cell_type": "code",
   "execution_count": 24,
   "id": "5b9695b1-b89a-48c3-8fb5-8e693b67a9e5",
   "metadata": {
    "tags": []
   },
   "outputs": [],
   "source": [
    "X = df2.iloc[:,2:]\n"
   ]
  },
  {
   "cell_type": "code",
   "execution_count": 25,
   "id": "371712af-7f3c-4991-8e95-9eb35ee345b7",
   "metadata": {},
   "outputs": [],
   "source": [
    "y = df2.iloc[:,0]"
   ]
  },
  {
   "cell_type": "code",
   "execution_count": 26,
   "id": "62ca0498-cebd-45ae-aa1b-31da7519746c",
   "metadata": {},
   "outputs": [],
   "source": [
    "#y_train for class 3\n",
    "y_Class3OD = y.replace(1, 0)\n",
    "y_Class3OD = y_Class3OD.replace(3, 1)\n",
    "y_Class3OD = y_Class3OD.replace(2, 0)\n",
    "y_Class3OD = y_Class3OD.replace(4, 0)"
   ]
  },
  {
   "cell_type": "code",
   "execution_count": 27,
   "id": "e14c42a3-d32a-4014-b9c4-493258229654",
   "metadata": {},
   "outputs": [
    {
     "data": {
      "text/plain": [
       "0.0    390\n",
       "1.0    183\n",
       "Name: MeiboODinf-0, dtype: int64"
      ]
     },
     "execution_count": 27,
     "metadata": {},
     "output_type": "execute_result"
    }
   ],
   "source": [
    "y_Class3OD.value_counts()"
   ]
  },
  {
   "cell_type": "code",
   "execution_count": 28,
   "id": "b0e27482-7716-45f6-858a-8e67cd0fc736",
   "metadata": {},
   "outputs": [
    {
     "data": {
      "text/plain": [
       "2.0    215\n",
       "3.0    183\n",
       "4.0    129\n",
       "1.0     46\n",
       "Name: MeiboODinf-0, dtype: int64"
      ]
     },
     "execution_count": 28,
     "metadata": {},
     "output_type": "execute_result"
    }
   ],
   "source": [
    "y.value_counts()"
   ]
  },
  {
   "cell_type": "code",
   "execution_count": 29,
   "id": "7260dfbc-99af-41aa-8c42-e4e92251d9b5",
   "metadata": {
    "tags": []
   },
   "outputs": [],
   "source": [
    "X_train, X_test, y_train, y_test = train_test_split(X, y_Class3OD, test_size = 0.2, random_state=42)\n"
   ]
  },
  {
   "cell_type": "code",
   "execution_count": 30,
   "id": "3304b369-ddd1-4b16-a2e0-e89d86fb4f10",
   "metadata": {
    "tags": []
   },
   "outputs": [
    {
     "name": "stdout",
     "output_type": "stream",
     "text": [
      "(458, 90)\n",
      "(115, 90)\n",
      "(458,)\n",
      "(115,)\n"
     ]
    }
   ],
   "source": [
    "print(X_train.shape)\n",
    "print(X_test.shape)\n",
    "print(y_train.shape)\n",
    "print(y_test.shape)"
   ]
  },
  {
   "cell_type": "code",
   "execution_count": 31,
   "id": "1d42d353-8392-4b28-a8fa-eb82ce516312",
   "metadata": {},
   "outputs": [],
   "source": [
    "from sklearn.preprocessing import StandardScaler\n",
    "scaler = StandardScaler()\n",
    "X_trainScaled = scaler.fit_transform(X_train)\n",
    "X_testScaled = scaler.transform(X_test)\n",
    "X_trainScaled = pd.DataFrame(X_trainScaled, columns = X_train.columns.tolist(), index=X_train.index)\n",
    "X_testScaled = pd.DataFrame(X_testScaled, columns = X_test.columns.tolist(), index=X_test.index)"
   ]
  },
  {
   "cell_type": "code",
   "execution_count": 32,
   "id": "b2512a6d-edc7-4549-a7db-5da468e5ac7b",
   "metadata": {},
   "outputs": [],
   "source": [
    "#X_trainScaled"
   ]
  },
  {
   "cell_type": "code",
   "execution_count": 33,
   "id": "737410e3-6269-4f9d-9f66-e090ed43ac92",
   "metadata": {},
   "outputs": [
    {
     "name": "stdout",
     "output_type": "stream",
     "text": [
      "(458, 90)\n",
      "(115, 90)\n",
      "(458,)\n",
      "(115,)\n"
     ]
    }
   ],
   "source": [
    "print(X_trainScaled.shape)\n",
    "print(X_testScaled.shape)\n",
    "print(y_train.shape)\n",
    "print(y_test.shape)"
   ]
  },
  {
   "cell_type": "code",
   "execution_count": 34,
   "id": "2b4ba14b-4723-4f13-9632-7972b4800fcf",
   "metadata": {},
   "outputs": [],
   "source": [
    "def metrics():\n",
    "    y_pred = clf.predict(X_testScaled)\n",
    "    bal_acc = balanced_accuracy_score(y_test, y_pred)\n",
    "    mcc = matthews_corrcoef(y_test, y_pred)\n",
    "    f1 = f1_score(y_test, y_pred, average=\"macro\")\n",
    "    cf = confusion_matrix(y_test, y_pred)\n",
    "    target_names = ['class 0', 'class 1']\n",
    "    print(f\"Balanced accuracy: {bal_acc}\")\n",
    "    print(f\"MCC: {mcc}\")\n",
    "    print(f\"F1: {f1}\")\n",
    "    print(f\"Confusion matrix: \\n{cf}\")\n",
    "    print(f\"Classification report: \\n{classification_report(y_test, y_pred, target_names=target_names)}\")"
   ]
  },
  {
   "cell_type": "markdown",
   "id": "91882b63-a680-4531-a3aa-b23052e47e3d",
   "metadata": {
    "tags": []
   },
   "source": [
    "# Training and predicting on the right eye"
   ]
  },
  {
   "cell_type": "code",
   "execution_count": 35,
   "id": "d09df891-83c5-4a7e-8e6a-80a303b50488",
   "metadata": {
    "tags": []
   },
   "outputs": [
    {
     "name": "stdout",
     "output_type": "stream",
     "text": [
      "Balanced accuracy: 0.5\n",
      "MCC: 0.0\n",
      "F1: 0.39153439153439157\n",
      "Confusion matrix: \n",
      "[[74  0]\n",
      " [41  0]]\n",
      "Classification report: \n",
      "              precision    recall  f1-score   support\n",
      "\n",
      "     class 0       0.64      1.00      0.78        74\n",
      "     class 1       0.00      0.00      0.00        41\n",
      "\n",
      "    accuracy                           0.64       115\n",
      "   macro avg       0.32      0.50      0.39       115\n",
      "weighted avg       0.41      0.64      0.50       115\n",
      "\n"
     ]
    },
    {
     "name": "stderr",
     "output_type": "stream",
     "text": [
      "C:\\Users\\fre_f\\anaconda3\\envs\\FF\\lib\\site-packages\\sklearn\\metrics\\_classification.py:1334: UndefinedMetricWarning: Precision and F-score are ill-defined and being set to 0.0 in labels with no predicted samples. Use `zero_division` parameter to control this behavior.\n",
      "  _warn_prf(average, modifier, msg_start, len(result))\n",
      "C:\\Users\\fre_f\\anaconda3\\envs\\FF\\lib\\site-packages\\sklearn\\metrics\\_classification.py:1334: UndefinedMetricWarning: Precision and F-score are ill-defined and being set to 0.0 in labels with no predicted samples. Use `zero_division` parameter to control this behavior.\n",
      "  _warn_prf(average, modifier, msg_start, len(result))\n",
      "C:\\Users\\fre_f\\anaconda3\\envs\\FF\\lib\\site-packages\\sklearn\\metrics\\_classification.py:1334: UndefinedMetricWarning: Precision and F-score are ill-defined and being set to 0.0 in labels with no predicted samples. Use `zero_division` parameter to control this behavior.\n",
      "  _warn_prf(average, modifier, msg_start, len(result))\n"
     ]
    }
   ],
   "source": [
    "from sklearn.dummy import DummyClassifier\n",
    "clf = DummyClassifier(strategy=\"most_frequent\")\n",
    "clf.fit(X_trainScaled, y_train)\n",
    "clf.predict(X_testScaled)\n",
    "\n",
    "metrics()\n"
   ]
  },
  {
   "cell_type": "code",
   "execution_count": 36,
   "id": "eda015af-c8b9-4d75-b771-80d6b34a40df",
   "metadata": {},
   "outputs": [
    {
     "name": "stdout",
     "output_type": "stream",
     "text": [
      "Balanced accuracy: 0.512524719841793\n",
      "MCC: 0.027628517338245978\n",
      "F1: 0.5071428571428571\n",
      "Confusion matrix: \n",
      "[[56 18]\n",
      " [30 11]]\n",
      "Classification report: \n",
      "              precision    recall  f1-score   support\n",
      "\n",
      "     class 0       0.65      0.76      0.70        74\n",
      "     class 1       0.38      0.27      0.31        41\n",
      "\n",
      "    accuracy                           0.58       115\n",
      "   macro avg       0.52      0.51      0.51       115\n",
      "weighted avg       0.55      0.58      0.56       115\n",
      "\n"
     ]
    }
   ],
   "source": [
    "from sklearn.svm import LinearSVC\n",
    "clf = LinearSVC(max_iter=5000).fit(X_trainScaled, y_train)\n",
    "clf.predict(X_testScaled)\n",
    "\n",
    "metrics()"
   ]
  },
  {
   "cell_type": "code",
   "execution_count": 37,
   "id": "60108c1b-0576-4815-99dc-1588246d7c34",
   "metadata": {},
   "outputs": [
    {
     "name": "stdout",
     "output_type": "stream",
     "text": [
      "Balanced accuracy: 0.5108767303889256\n",
      "MCC: 0.05686495008402747\n",
      "F1: 0.43363363363363366\n",
      "Confusion matrix: \n",
      "[[72  2]\n",
      " [39  2]]\n",
      "Classification report: \n",
      "              precision    recall  f1-score   support\n",
      "\n",
      "     class 0       0.65      0.97      0.78        74\n",
      "     class 1       0.50      0.05      0.09        41\n",
      "\n",
      "    accuracy                           0.64       115\n",
      "   macro avg       0.57      0.51      0.43       115\n",
      "weighted avg       0.60      0.64      0.53       115\n",
      "\n"
     ]
    }
   ],
   "source": [
    "clf = RandomForestClassifier().fit(X_trainScaled, y_train)\n",
    "clf.predict(X_testScaled)\n",
    "\n",
    "metrics()"
   ]
  },
  {
   "cell_type": "code",
   "execution_count": 38,
   "id": "baf31b46-cdc7-484d-9637-cfe84fb8431b",
   "metadata": {},
   "outputs": [
    {
     "name": "stdout",
     "output_type": "stream",
     "text": [
      "Balanced accuracy: 0.5176334871456822\n",
      "MCC: 0.10597571387856486\n",
      "F1: 0.4379276637341154\n",
      "Confusion matrix: \n",
      "[[73  1]\n",
      " [39  2]]\n",
      "Classification report: \n",
      "              precision    recall  f1-score   support\n",
      "\n",
      "     class 0       0.65      0.99      0.78        74\n",
      "     class 1       0.67      0.05      0.09        41\n",
      "\n",
      "    accuracy                           0.65       115\n",
      "   macro avg       0.66      0.52      0.44       115\n",
      "weighted avg       0.66      0.65      0.54       115\n",
      "\n"
     ]
    }
   ],
   "source": [
    "clf = RandomForestClassifier(n_estimators=5000, criterion=\"gini\", bootstrap=True, oob_score=False, warm_start=False, random_state=42).fit(X_trainScaled, y_train)\n",
    "clf.predict(X_testScaled)\n",
    "\n",
    "metrics()"
   ]
  },
  {
   "cell_type": "code",
   "execution_count": 39,
   "id": "25e3bec0-191e-4503-a926-62fa8d87ada4",
   "metadata": {},
   "outputs": [
    {
     "name": "stdout",
     "output_type": "stream",
     "text": [
      "Balanced accuracy: 0.5121951219512195\n",
      "MCC: 0.12582632310368824\n",
      "F1: 0.41742654508611954\n",
      "Confusion matrix: \n",
      "[[74  0]\n",
      " [40  1]]\n",
      "Classification report: \n",
      "              precision    recall  f1-score   support\n",
      "\n",
      "     class 0       0.65      1.00      0.79        74\n",
      "     class 1       1.00      0.02      0.05        41\n",
      "\n",
      "    accuracy                           0.65       115\n",
      "   macro avg       0.82      0.51      0.42       115\n",
      "weighted avg       0.77      0.65      0.52       115\n",
      "\n"
     ]
    }
   ],
   "source": [
    "from sklearn.ensemble import ExtraTreesClassifier\n",
    "clf = ExtraTreesClassifier(n_estimators=1000, bootstrap=True, oob_score=True, random_state=42).fit(X_trainScaled, y_train)\n",
    "clf.predict(X_testScaled)\n",
    "\n",
    "metrics()"
   ]
  },
  {
   "cell_type": "code",
   "execution_count": 40,
   "id": "bc9bec50-cfda-4f42-860c-11480e77cbc0",
   "metadata": {},
   "outputs": [
    {
     "name": "stdout",
     "output_type": "stream",
     "text": [
      "Balanced accuracy: 0.484179301252472\n",
      "MCC: -0.0326812492182601\n",
      "F1: 0.4826415414650709\n",
      "Confusion matrix: \n",
      "[[50 24]\n",
      " [29 12]]\n",
      "Classification report: \n",
      "              precision    recall  f1-score   support\n",
      "\n",
      "     class 0       0.63      0.68      0.65        74\n",
      "     class 1       0.33      0.29      0.31        41\n",
      "\n",
      "    accuracy                           0.54       115\n",
      "   macro avg       0.48      0.48      0.48       115\n",
      "weighted avg       0.53      0.54      0.53       115\n",
      "\n"
     ]
    }
   ],
   "source": [
    "neigh = KNeighborsClassifier(n_neighbors=3)\n",
    "clf = neigh.fit(X_trainScaled, y_train)\n",
    "clf.predict(X_testScaled)\n",
    "\n",
    "metrics()"
   ]
  },
  {
   "cell_type": "code",
   "execution_count": 41,
   "id": "41ca85ec-c4f0-4c09-bc49-3ed8f748f5d6",
   "metadata": {},
   "outputs": [
    {
     "name": "stdout",
     "output_type": "stream",
     "text": [
      "Balanced accuracy: 0.5706987475280159\n",
      "MCC: 0.16190782050861088\n",
      "F1: 0.5682629795806245\n",
      "Confusion matrix: \n",
      "[[61 13]\n",
      " [28 13]]\n",
      "Classification report: \n",
      "              precision    recall  f1-score   support\n",
      "\n",
      "     class 0       0.69      0.82      0.75        74\n",
      "     class 1       0.50      0.32      0.39        41\n",
      "\n",
      "    accuracy                           0.64       115\n",
      "   macro avg       0.59      0.57      0.57       115\n",
      "weighted avg       0.62      0.64      0.62       115\n",
      "\n"
     ]
    }
   ],
   "source": [
    "# lbfgs, sgd, adam\n",
    "#logistic, tanh, relu\n",
    "from sklearn.neural_network import MLPClassifier\n",
    "clf = MLPClassifier(solver=\"adam\", activation=\"tanh\", learning_rate=\"constant\", random_state=42, max_iter=3000, verbose=False).fit(X_trainScaled, y_train)\n",
    "#clf.out_activation_=\"softmax\"\n",
    "clf.predict(X_testScaled)\n",
    "\n",
    "metrics()"
   ]
  },
  {
   "cell_type": "code",
   "execution_count": 42,
   "id": "6ef3bd8b-9694-4ac5-8d4b-9512c6fdabd3",
   "metadata": {},
   "outputs": [
    {
     "name": "stdout",
     "output_type": "stream",
     "text": [
      "Balanced accuracy: 0.5151615029663811\n",
      "MCC: 0.03630966210657986\n",
      "F1: 0.5020707831325302\n",
      "Confusion matrix: \n",
      "[[60 14]\n",
      " [32  9]]\n",
      "Classification report: \n",
      "              precision    recall  f1-score   support\n",
      "\n",
      "     class 0       0.65      0.81      0.72        74\n",
      "     class 1       0.39      0.22      0.28        41\n",
      "\n",
      "    accuracy                           0.60       115\n",
      "   macro avg       0.52      0.52      0.50       115\n",
      "weighted avg       0.56      0.60      0.57       115\n",
      "\n"
     ]
    }
   ],
   "source": [
    "from sklearn.ensemble import AdaBoostClassifier\n",
    "clf = AdaBoostClassifier(n_estimators=50, random_state=42).fit(X_trainScaled, y_train)\n",
    "clf.predict(X_testScaled)\n",
    "\n",
    "metrics()\n",
    "#complete_output()"
   ]
  },
  {
   "cell_type": "code",
   "execution_count": 43,
   "id": "e1943b23-f9e1-4eda-b7cc-7a0f31213753",
   "metadata": {},
   "outputs": [
    {
     "name": "stdout",
     "output_type": "stream",
     "text": [
      "Balanced accuracy: 0.5258734344100198\n",
      "MCC: 0.07827446395826292\n",
      "F1: 0.4917929292929293\n",
      "Confusion matrix: \n",
      "[[67  7]\n",
      " [35  6]]\n",
      "Classification report: \n",
      "              precision    recall  f1-score   support\n",
      "\n",
      "     class 0       0.66      0.91      0.76        74\n",
      "     class 1       0.46      0.15      0.22        41\n",
      "\n",
      "    accuracy                           0.63       115\n",
      "   macro avg       0.56      0.53      0.49       115\n",
      "weighted avg       0.59      0.63      0.57       115\n",
      "\n"
     ]
    }
   ],
   "source": [
    "from sklearn.ensemble import HistGradientBoostingClassifier\n",
    "clf = HistGradientBoostingClassifier().fit(X_trainScaled, y_train)\n",
    "clf.predict(X_testScaled)\n",
    "\n",
    "metrics()\n",
    "#complete_output()"
   ]
  },
  {
   "cell_type": "code",
   "execution_count": 44,
   "id": "14832df1-a3a6-4630-80e8-b2d821499ae4",
   "metadata": {},
   "outputs": [
    {
     "name": "stdout",
     "output_type": "stream",
     "text": [
      "Balanced accuracy: 0.5057679630850362\n",
      "MCC: 0.012583172952400155\n",
      "F1: 0.5008415271503233\n",
      "Confusion matrix: \n",
      "[[55 19]\n",
      " [30 11]]\n",
      "Classification report: \n",
      "              precision    recall  f1-score   support\n",
      "\n",
      "     class 0       0.65      0.74      0.69        74\n",
      "     class 1       0.37      0.27      0.31        41\n",
      "\n",
      "    accuracy                           0.57       115\n",
      "   macro avg       0.51      0.51      0.50       115\n",
      "weighted avg       0.55      0.57      0.56       115\n",
      "\n"
     ]
    }
   ],
   "source": [
    "from sklearn.ensemble import GradientBoostingClassifier\n",
    "clf = GradientBoostingClassifier(n_estimators=1000, learning_rate=1.0, max_depth=None, random_state=42).fit(X_trainScaled, y_train)\n",
    "clf.predict(X_testScaled)\n",
    "\n",
    "metrics()"
   ]
  },
  {
   "cell_type": "code",
   "execution_count": 45,
   "id": "30299cc4-e8d1-4e2b-9fcc-9102a14ad4a2",
   "metadata": {},
   "outputs": [
    {
     "name": "stdout",
     "output_type": "stream",
     "text": [
      "Balanced accuracy: 0.5529004614370467\n",
      "MCC: 0.1886787788703331\n",
      "F1: 0.5144444444444445\n",
      "Confusion matrix: \n",
      "[[71  3]\n",
      " [35  6]]\n",
      "Classification report: \n",
      "              precision    recall  f1-score   support\n",
      "\n",
      "     class 0       0.67      0.96      0.79        74\n",
      "     class 1       0.67      0.15      0.24        41\n",
      "\n",
      "    accuracy                           0.67       115\n",
      "   macro avg       0.67      0.55      0.51       115\n",
      "weighted avg       0.67      0.67      0.59       115\n",
      "\n"
     ]
    }
   ],
   "source": [
    "from xgboost import XGBClassifier\n",
    "clf = XGBClassifier(max_depth=10, eta=0.3, reg_lambda=50, alpha=0).fit(X_trainScaled, y_train)\n",
    "clf.predict(X_testScaled)\n",
    "\n",
    "metrics()"
   ]
  },
  {
   "cell_type": "code",
   "execution_count": 46,
   "id": "6ab3f8c4-cf13-493b-b709-cce39bf3b01d",
   "metadata": {},
   "outputs": [
    {
     "name": "stdout",
     "output_type": "stream",
     "text": [
      "Balanced accuracy: 0.5557020435069215\n",
      "MCC: 0.15033891566135588\n",
      "F1: 0.5388933440256616\n",
      "Confusion matrix: \n",
      "[[66  8]\n",
      " [32  9]]\n",
      "Classification report: \n",
      "              precision    recall  f1-score   support\n",
      "\n",
      "     class 0       0.67      0.89      0.77        74\n",
      "     class 1       0.53      0.22      0.31        41\n",
      "\n",
      "    accuracy                           0.65       115\n",
      "   macro avg       0.60      0.56      0.54       115\n",
      "weighted avg       0.62      0.65      0.60       115\n",
      "\n"
     ]
    }
   ],
   "source": [
    "import lightgbm as lgb\n",
    "from lightgbm import LGBMClassifier\n",
    "clf = LGBMClassifier().fit(X_trainScaled, y_train)\n",
    "clf.predict(X_testScaled)\n",
    "\n",
    "metrics()"
   ]
  },
  {
   "cell_type": "markdown",
   "id": "ed05a6c1-c2ca-4d05-99fb-81c40d31dcd2",
   "metadata": {
    "tags": []
   },
   "source": [
    "# Training and predicting on the left eye"
   ]
  },
  {
   "cell_type": "code",
   "execution_count": 47,
   "id": "aae0f843-aa72-46db-9d7e-db673b9bfc47",
   "metadata": {
    "tags": []
   },
   "outputs": [],
   "source": [
    "#df2.iloc[: ,1]"
   ]
  },
  {
   "cell_type": "code",
   "execution_count": 48,
   "id": "77d17704-2a70-48ac-9c77-5f8ca83e6bd4",
   "metadata": {
    "tags": []
   },
   "outputs": [],
   "source": [
    "X_OS = df2.iloc[:,2:]\n"
   ]
  },
  {
   "cell_type": "code",
   "execution_count": 49,
   "id": "8c602aba-4f6a-4256-8c27-4e6753345616",
   "metadata": {},
   "outputs": [],
   "source": [
    "#df2.iloc[:,1]"
   ]
  },
  {
   "cell_type": "code",
   "execution_count": 50,
   "id": "5f3c30cd-00eb-487a-bff5-5390e7c1803c",
   "metadata": {},
   "outputs": [],
   "source": [
    "y_OS = df2.iloc[:,1]"
   ]
  },
  {
   "cell_type": "code",
   "execution_count": 51,
   "id": "41b5e303-f22a-4aaf-aeec-e52e19f5ee52",
   "metadata": {},
   "outputs": [],
   "source": [
    "#y_train for class 3\n",
    "y_Class3OS = y_OS.replace(2, 0)\n",
    "y_Class3OS = y_Class3OS.replace(3, 0)\n",
    "y_Class3OS = y_Class3OS.replace(4, 0)"
   ]
  },
  {
   "cell_type": "code",
   "execution_count": 52,
   "id": "84ae8725-7b66-4f3a-894b-2485d9ca1c32",
   "metadata": {},
   "outputs": [
    {
     "data": {
      "text/plain": [
       "0.0    538\n",
       "1.0     35\n",
       "Name: MeiboOSinf-0, dtype: int64"
      ]
     },
     "execution_count": 52,
     "metadata": {},
     "output_type": "execute_result"
    }
   ],
   "source": [
    "y_Class3OS.value_counts()"
   ]
  },
  {
   "cell_type": "code",
   "execution_count": 53,
   "id": "efc91953-a7e8-4f5f-b21f-af59f0f7293f",
   "metadata": {
    "tags": []
   },
   "outputs": [],
   "source": [
    "X_trainOS, X_testOS, y_trainOS, y_testOS = train_test_split(X_OS, y_Class3OS, test_size = 0.2, random_state=42)\n"
   ]
  },
  {
   "cell_type": "code",
   "execution_count": 54,
   "id": "e8dca6d6-59c3-4d9f-b94a-fb7242fa6374",
   "metadata": {},
   "outputs": [],
   "source": [
    "scaler = StandardScaler()\n",
    "X_trainScaledOS = scaler.fit_transform(X_trainOS)\n",
    "X_testScaledOS = scaler.transform(X_testOS)\n",
    "X_trainScaledOS = pd.DataFrame(X_trainScaledOS, columns = X_trainOS.columns.tolist(), index=X_trainOS.index)\n",
    "X_testScaledOS = pd.DataFrame(X_testScaledOS, columns = X_testOS.columns.tolist(), index=X_testOS.index)"
   ]
  },
  {
   "cell_type": "code",
   "execution_count": 55,
   "id": "25761297-ec0a-442f-8fae-eba2a89beae0",
   "metadata": {},
   "outputs": [
    {
     "data": {
      "text/plain": [
       "pandas.core.frame.DataFrame"
      ]
     },
     "execution_count": 55,
     "metadata": {},
     "output_type": "execute_result"
    }
   ],
   "source": [
    "type(X_trainScaledOS)\n",
    "type(X_testScaledOS)"
   ]
  },
  {
   "cell_type": "code",
   "execution_count": 56,
   "id": "60720fbd-29ac-452e-87a7-013c6603b879",
   "metadata": {},
   "outputs": [
    {
     "name": "stdout",
     "output_type": "stream",
     "text": [
      "(458, 90)\n",
      "(115, 90)\n",
      "(458,)\n",
      "(115,)\n"
     ]
    }
   ],
   "source": [
    "print(X_trainScaledOS.shape)\n",
    "print(X_testScaledOS.shape)\n",
    "print(y_trainOS.shape)\n",
    "print(y_testOS.shape)"
   ]
  },
  {
   "cell_type": "code",
   "execution_count": 57,
   "id": "56716737-f8b7-4e77-a316-2ca596845e55",
   "metadata": {},
   "outputs": [],
   "source": [
    "#X_trainScaledOS"
   ]
  },
  {
   "cell_type": "code",
   "execution_count": 58,
   "id": "2caf85f4-2775-4df3-bd24-794ee95f8f4d",
   "metadata": {},
   "outputs": [],
   "source": [
    "def metricsOS():\n",
    "    y_predOS = clf.predict(X_testScaledOS)\n",
    "    bal_acc = balanced_accuracy_score(y_testOS, y_predOS)\n",
    "    mcc = matthews_corrcoef(y_testOS, y_predOS)\n",
    "    f1 = f1_score(y_testOS, y_predOS, average=\"macro\")\n",
    "    cf = confusion_matrix(y_testOS, y_predOS)\n",
    "    target_names = ['class 0', 'class 1']\n",
    "    print(f\"Balanced accuracy: {bal_acc}\")\n",
    "    print(f\"MCC: {mcc}\")\n",
    "    print(f\"F1: {f1}\")\n",
    "    print(f\"Confusion matrix: \\n{cf}\")\n",
    "    print(f\"Classification report: \\n{classification_report(y_testOS, y_predOS, target_names=target_names)}\")"
   ]
  },
  {
   "cell_type": "code",
   "execution_count": 59,
   "id": "fae99650-93e5-4626-a436-cc5fc8d73757",
   "metadata": {
    "tags": []
   },
   "outputs": [
    {
     "name": "stdout",
     "output_type": "stream",
     "text": [
      "Balanced accuracy: 0.5\n",
      "MCC: 0.0\n",
      "F1: 0.48198198198198194\n",
      "Confusion matrix: \n",
      "[[107   0]\n",
      " [  8   0]]\n",
      "Classification report: \n",
      "              precision    recall  f1-score   support\n",
      "\n",
      "     class 0       0.93      1.00      0.96       107\n",
      "     class 1       0.00      0.00      0.00         8\n",
      "\n",
      "    accuracy                           0.93       115\n",
      "   macro avg       0.47      0.50      0.48       115\n",
      "weighted avg       0.87      0.93      0.90       115\n",
      "\n"
     ]
    },
    {
     "name": "stderr",
     "output_type": "stream",
     "text": [
      "C:\\Users\\fre_f\\anaconda3\\envs\\FF\\lib\\site-packages\\sklearn\\metrics\\_classification.py:1334: UndefinedMetricWarning: Precision and F-score are ill-defined and being set to 0.0 in labels with no predicted samples. Use `zero_division` parameter to control this behavior.\n",
      "  _warn_prf(average, modifier, msg_start, len(result))\n",
      "C:\\Users\\fre_f\\anaconda3\\envs\\FF\\lib\\site-packages\\sklearn\\metrics\\_classification.py:1334: UndefinedMetricWarning: Precision and F-score are ill-defined and being set to 0.0 in labels with no predicted samples. Use `zero_division` parameter to control this behavior.\n",
      "  _warn_prf(average, modifier, msg_start, len(result))\n",
      "C:\\Users\\fre_f\\anaconda3\\envs\\FF\\lib\\site-packages\\sklearn\\metrics\\_classification.py:1334: UndefinedMetricWarning: Precision and F-score are ill-defined and being set to 0.0 in labels with no predicted samples. Use `zero_division` parameter to control this behavior.\n",
      "  _warn_prf(average, modifier, msg_start, len(result))\n"
     ]
    }
   ],
   "source": [
    "from sklearn.dummy import DummyClassifier\n",
    "clf = DummyClassifier(strategy=\"most_frequent\")\n",
    "clf.fit(X_trainScaledOS, y_trainOS)\n",
    "clf.predict(X_testScaledOS)\n",
    "\n",
    "metricsOS()"
   ]
  },
  {
   "cell_type": "code",
   "execution_count": 60,
   "id": "7f5c5939-ebb8-4e85-9a9c-6175a6dc3428",
   "metadata": {},
   "outputs": [
    {
     "name": "stdout",
     "output_type": "stream",
     "text": [
      "Balanced accuracy: 0.6314252336448598\n",
      "MCC: 0.19856376833012096\n",
      "F1: 0.5893719806763285\n",
      "Confusion matrix: \n",
      "[[95 12]\n",
      " [ 5  3]]\n",
      "Classification report: \n",
      "              precision    recall  f1-score   support\n",
      "\n",
      "     class 0       0.95      0.89      0.92       107\n",
      "     class 1       0.20      0.38      0.26         8\n",
      "\n",
      "    accuracy                           0.85       115\n",
      "   macro avg       0.57      0.63      0.59       115\n",
      "weighted avg       0.90      0.85      0.87       115\n",
      "\n"
     ]
    }
   ],
   "source": [
    "from sklearn.svm import LinearSVC\n",
    "clf = LinearSVC(max_iter=5000).fit(X_trainScaledOS, y_trainOS)\n",
    "clf.predict(X_testScaledOS)\n",
    "\n",
    "metricsOS()"
   ]
  },
  {
   "cell_type": "code",
   "execution_count": 61,
   "id": "1e65279d-fb32-49b7-9965-d77a8dcb56e1",
   "metadata": {},
   "outputs": [
    {
     "name": "stdout",
     "output_type": "stream",
     "text": [
      "Balanced accuracy: 0.5\n",
      "MCC: 0.0\n",
      "F1: 0.48198198198198194\n",
      "Confusion matrix: \n",
      "[[107   0]\n",
      " [  8   0]]\n",
      "Classification report: \n",
      "              precision    recall  f1-score   support\n",
      "\n",
      "     class 0       0.93      1.00      0.96       107\n",
      "     class 1       0.00      0.00      0.00         8\n",
      "\n",
      "    accuracy                           0.93       115\n",
      "   macro avg       0.47      0.50      0.48       115\n",
      "weighted avg       0.87      0.93      0.90       115\n",
      "\n"
     ]
    },
    {
     "name": "stderr",
     "output_type": "stream",
     "text": [
      "C:\\Users\\fre_f\\anaconda3\\envs\\FF\\lib\\site-packages\\sklearn\\metrics\\_classification.py:1334: UndefinedMetricWarning: Precision and F-score are ill-defined and being set to 0.0 in labels with no predicted samples. Use `zero_division` parameter to control this behavior.\n",
      "  _warn_prf(average, modifier, msg_start, len(result))\n",
      "C:\\Users\\fre_f\\anaconda3\\envs\\FF\\lib\\site-packages\\sklearn\\metrics\\_classification.py:1334: UndefinedMetricWarning: Precision and F-score are ill-defined and being set to 0.0 in labels with no predicted samples. Use `zero_division` parameter to control this behavior.\n",
      "  _warn_prf(average, modifier, msg_start, len(result))\n",
      "C:\\Users\\fre_f\\anaconda3\\envs\\FF\\lib\\site-packages\\sklearn\\metrics\\_classification.py:1334: UndefinedMetricWarning: Precision and F-score are ill-defined and being set to 0.0 in labels with no predicted samples. Use `zero_division` parameter to control this behavior.\n",
      "  _warn_prf(average, modifier, msg_start, len(result))\n"
     ]
    }
   ],
   "source": [
    "clf = RandomForestClassifier().fit(X_trainScaledOS, y_trainOS)\n",
    "clf.predict(X_testScaledOS)\n",
    "\n",
    "metricsOS()"
   ]
  },
  {
   "cell_type": "code",
   "execution_count": 62,
   "id": "15bbce48-e2e0-4abf-9312-7bdd9a81c81e",
   "metadata": {},
   "outputs": [
    {
     "name": "stdout",
     "output_type": "stream",
     "text": [
      "Balanced accuracy: 0.5\n",
      "MCC: 0.0\n",
      "F1: 0.48198198198198194\n",
      "Confusion matrix: \n",
      "[[107   0]\n",
      " [  8   0]]\n",
      "Classification report: \n",
      "              precision    recall  f1-score   support\n",
      "\n",
      "     class 0       0.93      1.00      0.96       107\n",
      "     class 1       0.00      0.00      0.00         8\n",
      "\n",
      "    accuracy                           0.93       115\n",
      "   macro avg       0.47      0.50      0.48       115\n",
      "weighted avg       0.87      0.93      0.90       115\n",
      "\n"
     ]
    },
    {
     "name": "stderr",
     "output_type": "stream",
     "text": [
      "C:\\Users\\fre_f\\anaconda3\\envs\\FF\\lib\\site-packages\\sklearn\\metrics\\_classification.py:1334: UndefinedMetricWarning: Precision and F-score are ill-defined and being set to 0.0 in labels with no predicted samples. Use `zero_division` parameter to control this behavior.\n",
      "  _warn_prf(average, modifier, msg_start, len(result))\n",
      "C:\\Users\\fre_f\\anaconda3\\envs\\FF\\lib\\site-packages\\sklearn\\metrics\\_classification.py:1334: UndefinedMetricWarning: Precision and F-score are ill-defined and being set to 0.0 in labels with no predicted samples. Use `zero_division` parameter to control this behavior.\n",
      "  _warn_prf(average, modifier, msg_start, len(result))\n",
      "C:\\Users\\fre_f\\anaconda3\\envs\\FF\\lib\\site-packages\\sklearn\\metrics\\_classification.py:1334: UndefinedMetricWarning: Precision and F-score are ill-defined and being set to 0.0 in labels with no predicted samples. Use `zero_division` parameter to control this behavior.\n",
      "  _warn_prf(average, modifier, msg_start, len(result))\n"
     ]
    }
   ],
   "source": [
    "clf = RandomForestClassifier(n_estimators=5000, criterion=\"gini\", bootstrap=True, oob_score=False, warm_start=True, random_state=42).fit(X_trainScaledOS, y_trainOS)\n",
    "clf.predict(X_testScaledOS)\n",
    "\n",
    "metricsOS()"
   ]
  },
  {
   "cell_type": "code",
   "execution_count": 63,
   "id": "748090ff-c3cd-408c-ba93-ae56d832a71d",
   "metadata": {},
   "outputs": [
    {
     "name": "stdout",
     "output_type": "stream",
     "text": [
      "Balanced accuracy: 0.49065420560747663\n",
      "MCC: -0.03637716757892587\n",
      "F1: 0.47727272727272724\n",
      "Confusion matrix: \n",
      "[[105   2]\n",
      " [  8   0]]\n",
      "Classification report: \n",
      "              precision    recall  f1-score   support\n",
      "\n",
      "     class 0       0.93      0.98      0.95       107\n",
      "     class 1       0.00      0.00      0.00         8\n",
      "\n",
      "    accuracy                           0.91       115\n",
      "   macro avg       0.46      0.49      0.48       115\n",
      "weighted avg       0.86      0.91      0.89       115\n",
      "\n"
     ]
    }
   ],
   "source": [
    "neigh = KNeighborsClassifier(n_neighbors=3)\n",
    "clf = neigh.fit(X_trainScaledOS, y_trainOS)\n",
    "clf.predict(X_testScaledOS)\n",
    "\n",
    "metricsOS()"
   ]
  },
  {
   "cell_type": "code",
   "execution_count": 64,
   "id": "110a1997-88c1-4318-8cd8-6b61b1a5dc64",
   "metadata": {},
   "outputs": [
    {
     "name": "stdout",
     "output_type": "stream",
     "text": [
      "Balanced accuracy: 0.5\n",
      "MCC: 0.0\n",
      "F1: 0.06504065040650406\n",
      "Confusion matrix: \n",
      "[[  0 107]\n",
      " [  0   8]]\n",
      "Classification report: \n",
      "              precision    recall  f1-score   support\n",
      "\n",
      "     class 0       0.00      0.00      0.00       107\n",
      "     class 1       0.07      1.00      0.13         8\n",
      "\n",
      "    accuracy                           0.07       115\n",
      "   macro avg       0.03      0.50      0.07       115\n",
      "weighted avg       0.00      0.07      0.01       115\n",
      "\n"
     ]
    },
    {
     "name": "stderr",
     "output_type": "stream",
     "text": [
      "C:\\Users\\fre_f\\anaconda3\\envs\\FF\\lib\\site-packages\\sklearn\\metrics\\_classification.py:1334: UndefinedMetricWarning: Precision and F-score are ill-defined and being set to 0.0 in labels with no predicted samples. Use `zero_division` parameter to control this behavior.\n",
      "  _warn_prf(average, modifier, msg_start, len(result))\n",
      "C:\\Users\\fre_f\\anaconda3\\envs\\FF\\lib\\site-packages\\sklearn\\metrics\\_classification.py:1334: UndefinedMetricWarning: Precision and F-score are ill-defined and being set to 0.0 in labels with no predicted samples. Use `zero_division` parameter to control this behavior.\n",
      "  _warn_prf(average, modifier, msg_start, len(result))\n",
      "C:\\Users\\fre_f\\anaconda3\\envs\\FF\\lib\\site-packages\\sklearn\\metrics\\_classification.py:1334: UndefinedMetricWarning: Precision and F-score are ill-defined and being set to 0.0 in labels with no predicted samples. Use `zero_division` parameter to control this behavior.\n",
      "  _warn_prf(average, modifier, msg_start, len(result))\n"
     ]
    }
   ],
   "source": [
    "# lbfgs, sgd, adam\n",
    "#logistic, tanh, relu\n",
    "from sklearn.neural_network import MLPClassifier\n",
    "clf = MLPClassifier(solver=\"adam\", activation=\"relu\", learning_rate=\"constant\", random_state=42, max_iter=3000, verbose=False).fit(X_trainScaledOS, y_trainOS)\n",
    "clf.out_activation_=\"softmax\"\n",
    "clf.predict(X_testScaledOS)\n",
    "\n",
    "metricsOS()"
   ]
  },
  {
   "cell_type": "code",
   "execution_count": 65,
   "id": "5ea32a05-e091-4ba6-a993-fbd4767b1e57",
   "metadata": {},
   "outputs": [
    {
     "name": "stdout",
     "output_type": "stream",
     "text": [
      "Balanced accuracy: 0.6828271028037383\n",
      "MCC: 0.5077102953881362\n",
      "F1: 0.7362385321100917\n",
      "Confusion matrix: \n",
      "[[106   1]\n",
      " [  5   3]]\n",
      "Classification report: \n",
      "              precision    recall  f1-score   support\n",
      "\n",
      "     class 0       0.95      0.99      0.97       107\n",
      "     class 1       0.75      0.38      0.50         8\n",
      "\n",
      "    accuracy                           0.95       115\n",
      "   macro avg       0.85      0.68      0.74       115\n",
      "weighted avg       0.94      0.95      0.94       115\n",
      "\n"
     ]
    }
   ],
   "source": [
    "from sklearn.ensemble import AdaBoostClassifier\n",
    "clf = AdaBoostClassifier(n_estimators=50, random_state=42).fit(X_trainScaledOS, y_trainOS)\n",
    "clf.predict(X_testScaledOS)\n",
    "\n",
    "metricsOS()"
   ]
  },
  {
   "cell_type": "code",
   "execution_count": 66,
   "id": "b7ae9c54-f306-41f8-853c-0b11896d6f09",
   "metadata": {},
   "outputs": [
    {
     "name": "stdout",
     "output_type": "stream",
     "text": [
      "Balanced accuracy: 0.5\n",
      "MCC: 0.0\n",
      "F1: 0.48198198198198194\n",
      "Confusion matrix: \n",
      "[[107   0]\n",
      " [  8   0]]\n",
      "Classification report: \n",
      "              precision    recall  f1-score   support\n",
      "\n",
      "     class 0       0.93      1.00      0.96       107\n",
      "     class 1       0.00      0.00      0.00         8\n",
      "\n",
      "    accuracy                           0.93       115\n",
      "   macro avg       0.47      0.50      0.48       115\n",
      "weighted avg       0.87      0.93      0.90       115\n",
      "\n"
     ]
    },
    {
     "name": "stderr",
     "output_type": "stream",
     "text": [
      "C:\\Users\\fre_f\\anaconda3\\envs\\FF\\lib\\site-packages\\sklearn\\metrics\\_classification.py:1334: UndefinedMetricWarning: Precision and F-score are ill-defined and being set to 0.0 in labels with no predicted samples. Use `zero_division` parameter to control this behavior.\n",
      "  _warn_prf(average, modifier, msg_start, len(result))\n",
      "C:\\Users\\fre_f\\anaconda3\\envs\\FF\\lib\\site-packages\\sklearn\\metrics\\_classification.py:1334: UndefinedMetricWarning: Precision and F-score are ill-defined and being set to 0.0 in labels with no predicted samples. Use `zero_division` parameter to control this behavior.\n",
      "  _warn_prf(average, modifier, msg_start, len(result))\n",
      "C:\\Users\\fre_f\\anaconda3\\envs\\FF\\lib\\site-packages\\sklearn\\metrics\\_classification.py:1334: UndefinedMetricWarning: Precision and F-score are ill-defined and being set to 0.0 in labels with no predicted samples. Use `zero_division` parameter to control this behavior.\n",
      "  _warn_prf(average, modifier, msg_start, len(result))\n"
     ]
    }
   ],
   "source": [
    "from sklearn.ensemble import HistGradientBoostingClassifier\n",
    "clf = HistGradientBoostingClassifier().fit(X_trainScaledOS, y_trainOS)\n",
    "clf.predict(X_testScaledOS)\n",
    "\n",
    "metricsOS()"
   ]
  },
  {
   "cell_type": "code",
   "execution_count": 67,
   "id": "1801f555-f001-4628-afc5-fa8a27d0d629",
   "metadata": {},
   "outputs": [
    {
     "name": "stdout",
     "output_type": "stream",
     "text": [
      "Balanced accuracy: 0.5391355140186915\n",
      "MCC: 0.08954658875326628\n",
      "F1: 0.5436507936507937\n",
      "Confusion matrix: \n",
      "[[102   5]\n",
      " [  7   1]]\n",
      "Classification report: \n",
      "              precision    recall  f1-score   support\n",
      "\n",
      "     class 0       0.94      0.95      0.94       107\n",
      "     class 1       0.17      0.12      0.14         8\n",
      "\n",
      "    accuracy                           0.90       115\n",
      "   macro avg       0.55      0.54      0.54       115\n",
      "weighted avg       0.88      0.90      0.89       115\n",
      "\n"
     ]
    }
   ],
   "source": [
    "from sklearn.ensemble import GradientBoostingClassifier\n",
    "clf = GradientBoostingClassifier(n_estimators=1000, learning_rate=0.5, max_depth=None, random_state=42).fit(X_trainScaledOS, y_trainOS)\n",
    "clf.predict(X_testScaledOS)\n",
    "\n",
    "metricsOS()"
   ]
  },
  {
   "cell_type": "code",
   "execution_count": 68,
   "id": "21655808-d775-4a41-8e7b-7b0a7b421bce",
   "metadata": {},
   "outputs": [
    {
     "name": "stdout",
     "output_type": "stream",
     "text": [
      "Balanced accuracy: 0.5\n",
      "MCC: 0.0\n",
      "F1: 0.48198198198198194\n",
      "Confusion matrix: \n",
      "[[107   0]\n",
      " [  8   0]]\n",
      "Classification report: \n",
      "              precision    recall  f1-score   support\n",
      "\n",
      "     class 0       0.93      1.00      0.96       107\n",
      "     class 1       0.00      0.00      0.00         8\n",
      "\n",
      "    accuracy                           0.93       115\n",
      "   macro avg       0.47      0.50      0.48       115\n",
      "weighted avg       0.87      0.93      0.90       115\n",
      "\n"
     ]
    },
    {
     "name": "stderr",
     "output_type": "stream",
     "text": [
      "C:\\Users\\fre_f\\anaconda3\\envs\\FF\\lib\\site-packages\\sklearn\\metrics\\_classification.py:1334: UndefinedMetricWarning: Precision and F-score are ill-defined and being set to 0.0 in labels with no predicted samples. Use `zero_division` parameter to control this behavior.\n",
      "  _warn_prf(average, modifier, msg_start, len(result))\n",
      "C:\\Users\\fre_f\\anaconda3\\envs\\FF\\lib\\site-packages\\sklearn\\metrics\\_classification.py:1334: UndefinedMetricWarning: Precision and F-score are ill-defined and being set to 0.0 in labels with no predicted samples. Use `zero_division` parameter to control this behavior.\n",
      "  _warn_prf(average, modifier, msg_start, len(result))\n",
      "C:\\Users\\fre_f\\anaconda3\\envs\\FF\\lib\\site-packages\\sklearn\\metrics\\_classification.py:1334: UndefinedMetricWarning: Precision and F-score are ill-defined and being set to 0.0 in labels with no predicted samples. Use `zero_division` parameter to control this behavior.\n",
      "  _warn_prf(average, modifier, msg_start, len(result))\n"
     ]
    }
   ],
   "source": [
    "from xgboost import XGBClassifier\n",
    "clf = XGBClassifier(max_depth=10, eta=0.3, reg_lambda=50, alpha=0).fit(X_trainScaledOS, y_trainOS)\n",
    "clf.predict(X_testScaledOS)\n",
    "\n",
    "metricsOS()"
   ]
  },
  {
   "cell_type": "code",
   "execution_count": 69,
   "id": "5cb0179a-7f49-4925-8f8f-5f6be6557849",
   "metadata": {},
   "outputs": [
    {
     "name": "stdout",
     "output_type": "stream",
     "text": [
      "Balanced accuracy: 0.6203271028037383\n",
      "MCC: 0.3841144978851179\n",
      "F1: 0.6658364466583644\n",
      "Confusion matrix: \n",
      "[[106   1]\n",
      " [  6   2]]\n",
      "Classification report: \n",
      "              precision    recall  f1-score   support\n",
      "\n",
      "     class 0       0.95      0.99      0.97       107\n",
      "     class 1       0.67      0.25      0.36         8\n",
      "\n",
      "    accuracy                           0.94       115\n",
      "   macro avg       0.81      0.62      0.67       115\n",
      "weighted avg       0.93      0.94      0.93       115\n",
      "\n"
     ]
    }
   ],
   "source": [
    "import lightgbm as lgb\n",
    "from lightgbm import LGBMClassifier\n",
    "clf = LGBMClassifier().fit(X_trainScaledOS, y_trainOS)\n",
    "clf.predict(X_testScaled)\n",
    "\n",
    "metricsOS()"
   ]
  }
 ],
 "metadata": {
  "kernelspec": {
   "display_name": "Python 3 (ipykernel)",
   "language": "python",
   "name": "python3"
  },
  "language_info": {
   "codemirror_mode": {
    "name": "ipython",
    "version": 3
   },
   "file_extension": ".py",
   "mimetype": "text/x-python",
   "name": "python",
   "nbconvert_exporter": "python",
   "pygments_lexer": "ipython3",
   "version": "3.9.15"
  }
 },
 "nbformat": 4,
 "nbformat_minor": 5
}
